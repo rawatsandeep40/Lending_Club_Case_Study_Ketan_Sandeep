{
 "cells": [
  {
   "cell_type": "code",
   "execution_count": 3,
   "id": "ffa312de",
   "metadata": {
    "id": "ffa312de"
   },
   "outputs": [],
   "source": [
    "#all Imports\n",
    "import numpy as np\n",
    "import pandas as pd\n",
    "import matplotlib.pyplot as plot\n",
    "import seaborn as sea\n",
    "import datetime as dt\n"
   ]
  },
  {
   "cell_type": "code",
   "execution_count": 7,
   "id": "29a38b9c",
   "metadata": {
    "colab": {
     "base_uri": "https://localhost:8080/"
    },
    "id": "29a38b9c",
    "outputId": "c57504d6-bdb2-4d0f-874c-9bdb711e1cbe"
   },
   "outputs": [],
   "source": [
    "# Read Loan file into a dataframe\n",
    "\n",
    "loan_df=pd.read_csv(r\"loan.csv\",low_memory=False)\n"
   ]
  },
  {
   "cell_type": "markdown",
   "id": "d98da55a",
   "metadata": {
    "id": "d98da55a"
   },
   "source": [
    "##  1. Data Cleaning"
   ]
  },
  {
   "cell_type": "markdown",
   "id": "9ddfb72a",
   "metadata": {
    "id": "490daf2a"
   },
   "source": [
    "### Check if there are any header/footer or summary rows and delete them.\n"
   ]
  },
  {
   "cell_type": "code",
   "execution_count": 8,
   "id": "72f4eb2f",
   "metadata": {
    "id": "72f4eb2f"
   },
   "outputs": [
    {
     "name": "stdout",
     "output_type": "stream",
     "text": [
      "(39717, 111)\n"
     ]
    },
    {
     "data": {
      "text/html": [
       "<div>\n",
       "<style scoped>\n",
       "    .dataframe tbody tr th:only-of-type {\n",
       "        vertical-align: middle;\n",
       "    }\n",
       "\n",
       "    .dataframe tbody tr th {\n",
       "        vertical-align: top;\n",
       "    }\n",
       "\n",
       "    .dataframe thead th {\n",
       "        text-align: right;\n",
       "    }\n",
       "</style>\n",
       "<table border=\"1\" class=\"dataframe\">\n",
       "  <thead>\n",
       "    <tr style=\"text-align: right;\">\n",
       "      <th></th>\n",
       "      <th>id</th>\n",
       "      <th>member_id</th>\n",
       "      <th>loan_amnt</th>\n",
       "      <th>funded_amnt</th>\n",
       "      <th>funded_amnt_inv</th>\n",
       "      <th>term</th>\n",
       "      <th>int_rate</th>\n",
       "      <th>installment</th>\n",
       "      <th>grade</th>\n",
       "      <th>sub_grade</th>\n",
       "      <th>...</th>\n",
       "      <th>num_tl_90g_dpd_24m</th>\n",
       "      <th>num_tl_op_past_12m</th>\n",
       "      <th>pct_tl_nvr_dlq</th>\n",
       "      <th>percent_bc_gt_75</th>\n",
       "      <th>pub_rec_bankruptcies</th>\n",
       "      <th>tax_liens</th>\n",
       "      <th>tot_hi_cred_lim</th>\n",
       "      <th>total_bal_ex_mort</th>\n",
       "      <th>total_bc_limit</th>\n",
       "      <th>total_il_high_credit_limit</th>\n",
       "    </tr>\n",
       "  </thead>\n",
       "  <tbody>\n",
       "    <tr>\n",
       "      <th>0</th>\n",
       "      <td>1077501</td>\n",
       "      <td>1296599</td>\n",
       "      <td>5000</td>\n",
       "      <td>5000</td>\n",
       "      <td>4975.0</td>\n",
       "      <td>36 months</td>\n",
       "      <td>10.65%</td>\n",
       "      <td>162.87</td>\n",
       "      <td>B</td>\n",
       "      <td>B2</td>\n",
       "      <td>...</td>\n",
       "      <td>NaN</td>\n",
       "      <td>NaN</td>\n",
       "      <td>NaN</td>\n",
       "      <td>NaN</td>\n",
       "      <td>0.0</td>\n",
       "      <td>0.0</td>\n",
       "      <td>NaN</td>\n",
       "      <td>NaN</td>\n",
       "      <td>NaN</td>\n",
       "      <td>NaN</td>\n",
       "    </tr>\n",
       "    <tr>\n",
       "      <th>1</th>\n",
       "      <td>1077430</td>\n",
       "      <td>1314167</td>\n",
       "      <td>2500</td>\n",
       "      <td>2500</td>\n",
       "      <td>2500.0</td>\n",
       "      <td>60 months</td>\n",
       "      <td>15.27%</td>\n",
       "      <td>59.83</td>\n",
       "      <td>C</td>\n",
       "      <td>C4</td>\n",
       "      <td>...</td>\n",
       "      <td>NaN</td>\n",
       "      <td>NaN</td>\n",
       "      <td>NaN</td>\n",
       "      <td>NaN</td>\n",
       "      <td>0.0</td>\n",
       "      <td>0.0</td>\n",
       "      <td>NaN</td>\n",
       "      <td>NaN</td>\n",
       "      <td>NaN</td>\n",
       "      <td>NaN</td>\n",
       "    </tr>\n",
       "    <tr>\n",
       "      <th>2</th>\n",
       "      <td>1077175</td>\n",
       "      <td>1313524</td>\n",
       "      <td>2400</td>\n",
       "      <td>2400</td>\n",
       "      <td>2400.0</td>\n",
       "      <td>36 months</td>\n",
       "      <td>15.96%</td>\n",
       "      <td>84.33</td>\n",
       "      <td>C</td>\n",
       "      <td>C5</td>\n",
       "      <td>...</td>\n",
       "      <td>NaN</td>\n",
       "      <td>NaN</td>\n",
       "      <td>NaN</td>\n",
       "      <td>NaN</td>\n",
       "      <td>0.0</td>\n",
       "      <td>0.0</td>\n",
       "      <td>NaN</td>\n",
       "      <td>NaN</td>\n",
       "      <td>NaN</td>\n",
       "      <td>NaN</td>\n",
       "    </tr>\n",
       "    <tr>\n",
       "      <th>3</th>\n",
       "      <td>1076863</td>\n",
       "      <td>1277178</td>\n",
       "      <td>10000</td>\n",
       "      <td>10000</td>\n",
       "      <td>10000.0</td>\n",
       "      <td>36 months</td>\n",
       "      <td>13.49%</td>\n",
       "      <td>339.31</td>\n",
       "      <td>C</td>\n",
       "      <td>C1</td>\n",
       "      <td>...</td>\n",
       "      <td>NaN</td>\n",
       "      <td>NaN</td>\n",
       "      <td>NaN</td>\n",
       "      <td>NaN</td>\n",
       "      <td>0.0</td>\n",
       "      <td>0.0</td>\n",
       "      <td>NaN</td>\n",
       "      <td>NaN</td>\n",
       "      <td>NaN</td>\n",
       "      <td>NaN</td>\n",
       "    </tr>\n",
       "    <tr>\n",
       "      <th>4</th>\n",
       "      <td>1075358</td>\n",
       "      <td>1311748</td>\n",
       "      <td>3000</td>\n",
       "      <td>3000</td>\n",
       "      <td>3000.0</td>\n",
       "      <td>60 months</td>\n",
       "      <td>12.69%</td>\n",
       "      <td>67.79</td>\n",
       "      <td>B</td>\n",
       "      <td>B5</td>\n",
       "      <td>...</td>\n",
       "      <td>NaN</td>\n",
       "      <td>NaN</td>\n",
       "      <td>NaN</td>\n",
       "      <td>NaN</td>\n",
       "      <td>0.0</td>\n",
       "      <td>0.0</td>\n",
       "      <td>NaN</td>\n",
       "      <td>NaN</td>\n",
       "      <td>NaN</td>\n",
       "      <td>NaN</td>\n",
       "    </tr>\n",
       "  </tbody>\n",
       "</table>\n",
       "<p>5 rows × 111 columns</p>\n",
       "</div>"
      ],
      "text/plain": [
       "        id  member_id  loan_amnt  funded_amnt  funded_amnt_inv        term  \\\n",
       "0  1077501    1296599       5000         5000           4975.0   36 months   \n",
       "1  1077430    1314167       2500         2500           2500.0   60 months   \n",
       "2  1077175    1313524       2400         2400           2400.0   36 months   \n",
       "3  1076863    1277178      10000        10000          10000.0   36 months   \n",
       "4  1075358    1311748       3000         3000           3000.0   60 months   \n",
       "\n",
       "  int_rate  installment grade sub_grade  ... num_tl_90g_dpd_24m  \\\n",
       "0   10.65%       162.87     B        B2  ...                NaN   \n",
       "1   15.27%        59.83     C        C4  ...                NaN   \n",
       "2   15.96%        84.33     C        C5  ...                NaN   \n",
       "3   13.49%       339.31     C        C1  ...                NaN   \n",
       "4   12.69%        67.79     B        B5  ...                NaN   \n",
       "\n",
       "  num_tl_op_past_12m pct_tl_nvr_dlq  percent_bc_gt_75 pub_rec_bankruptcies  \\\n",
       "0                NaN            NaN               NaN                  0.0   \n",
       "1                NaN            NaN               NaN                  0.0   \n",
       "2                NaN            NaN               NaN                  0.0   \n",
       "3                NaN            NaN               NaN                  0.0   \n",
       "4                NaN            NaN               NaN                  0.0   \n",
       "\n",
       "  tax_liens tot_hi_cred_lim total_bal_ex_mort total_bc_limit  \\\n",
       "0       0.0             NaN               NaN            NaN   \n",
       "1       0.0             NaN               NaN            NaN   \n",
       "2       0.0             NaN               NaN            NaN   \n",
       "3       0.0             NaN               NaN            NaN   \n",
       "4       0.0             NaN               NaN            NaN   \n",
       "\n",
       "  total_il_high_credit_limit  \n",
       "0                        NaN  \n",
       "1                        NaN  \n",
       "2                        NaN  \n",
       "3                        NaN  \n",
       "4                        NaN  \n",
       "\n",
       "[5 rows x 111 columns]"
      ]
     },
     "execution_count": 8,
     "metadata": {},
     "output_type": "execute_result"
    }
   ],
   "source": [
    "loan_df.head() # List the first 10 Rows\n",
    "print(loan_df.shape)\n",
    "loan_df.head()"
   ]
  },
  {
   "cell_type": "markdown",
   "id": "77fa321a",
   "metadata": {},
   "source": [
    "### From above we can see that we do not have any summary row presents in the header."
   ]
  },
  {
   "cell_type": "code",
   "execution_count": 9,
   "id": "18bf867e",
   "metadata": {
    "id": "18bf867e"
   },
   "outputs": [
    {
     "data": {
      "text/html": [
       "<div>\n",
       "<style scoped>\n",
       "    .dataframe tbody tr th:only-of-type {\n",
       "        vertical-align: middle;\n",
       "    }\n",
       "\n",
       "    .dataframe tbody tr th {\n",
       "        vertical-align: top;\n",
       "    }\n",
       "\n",
       "    .dataframe thead th {\n",
       "        text-align: right;\n",
       "    }\n",
       "</style>\n",
       "<table border=\"1\" class=\"dataframe\">\n",
       "  <thead>\n",
       "    <tr style=\"text-align: right;\">\n",
       "      <th></th>\n",
       "      <th>id</th>\n",
       "      <th>member_id</th>\n",
       "      <th>loan_amnt</th>\n",
       "      <th>funded_amnt</th>\n",
       "      <th>funded_amnt_inv</th>\n",
       "      <th>term</th>\n",
       "      <th>int_rate</th>\n",
       "      <th>installment</th>\n",
       "      <th>grade</th>\n",
       "      <th>sub_grade</th>\n",
       "      <th>...</th>\n",
       "      <th>num_tl_90g_dpd_24m</th>\n",
       "      <th>num_tl_op_past_12m</th>\n",
       "      <th>pct_tl_nvr_dlq</th>\n",
       "      <th>percent_bc_gt_75</th>\n",
       "      <th>pub_rec_bankruptcies</th>\n",
       "      <th>tax_liens</th>\n",
       "      <th>tot_hi_cred_lim</th>\n",
       "      <th>total_bal_ex_mort</th>\n",
       "      <th>total_bc_limit</th>\n",
       "      <th>total_il_high_credit_limit</th>\n",
       "    </tr>\n",
       "  </thead>\n",
       "  <tbody>\n",
       "    <tr>\n",
       "      <th>39712</th>\n",
       "      <td>92187</td>\n",
       "      <td>92174</td>\n",
       "      <td>2500</td>\n",
       "      <td>2500</td>\n",
       "      <td>1075.0</td>\n",
       "      <td>36 months</td>\n",
       "      <td>8.07%</td>\n",
       "      <td>78.42</td>\n",
       "      <td>A</td>\n",
       "      <td>A4</td>\n",
       "      <td>...</td>\n",
       "      <td>NaN</td>\n",
       "      <td>NaN</td>\n",
       "      <td>NaN</td>\n",
       "      <td>NaN</td>\n",
       "      <td>NaN</td>\n",
       "      <td>NaN</td>\n",
       "      <td>NaN</td>\n",
       "      <td>NaN</td>\n",
       "      <td>NaN</td>\n",
       "      <td>NaN</td>\n",
       "    </tr>\n",
       "    <tr>\n",
       "      <th>39713</th>\n",
       "      <td>90665</td>\n",
       "      <td>90607</td>\n",
       "      <td>8500</td>\n",
       "      <td>8500</td>\n",
       "      <td>875.0</td>\n",
       "      <td>36 months</td>\n",
       "      <td>10.28%</td>\n",
       "      <td>275.38</td>\n",
       "      <td>C</td>\n",
       "      <td>C1</td>\n",
       "      <td>...</td>\n",
       "      <td>NaN</td>\n",
       "      <td>NaN</td>\n",
       "      <td>NaN</td>\n",
       "      <td>NaN</td>\n",
       "      <td>NaN</td>\n",
       "      <td>NaN</td>\n",
       "      <td>NaN</td>\n",
       "      <td>NaN</td>\n",
       "      <td>NaN</td>\n",
       "      <td>NaN</td>\n",
       "    </tr>\n",
       "    <tr>\n",
       "      <th>39714</th>\n",
       "      <td>90395</td>\n",
       "      <td>90390</td>\n",
       "      <td>5000</td>\n",
       "      <td>5000</td>\n",
       "      <td>1325.0</td>\n",
       "      <td>36 months</td>\n",
       "      <td>8.07%</td>\n",
       "      <td>156.84</td>\n",
       "      <td>A</td>\n",
       "      <td>A4</td>\n",
       "      <td>...</td>\n",
       "      <td>NaN</td>\n",
       "      <td>NaN</td>\n",
       "      <td>NaN</td>\n",
       "      <td>NaN</td>\n",
       "      <td>NaN</td>\n",
       "      <td>NaN</td>\n",
       "      <td>NaN</td>\n",
       "      <td>NaN</td>\n",
       "      <td>NaN</td>\n",
       "      <td>NaN</td>\n",
       "    </tr>\n",
       "    <tr>\n",
       "      <th>39715</th>\n",
       "      <td>90376</td>\n",
       "      <td>89243</td>\n",
       "      <td>5000</td>\n",
       "      <td>5000</td>\n",
       "      <td>650.0</td>\n",
       "      <td>36 months</td>\n",
       "      <td>7.43%</td>\n",
       "      <td>155.38</td>\n",
       "      <td>A</td>\n",
       "      <td>A2</td>\n",
       "      <td>...</td>\n",
       "      <td>NaN</td>\n",
       "      <td>NaN</td>\n",
       "      <td>NaN</td>\n",
       "      <td>NaN</td>\n",
       "      <td>NaN</td>\n",
       "      <td>NaN</td>\n",
       "      <td>NaN</td>\n",
       "      <td>NaN</td>\n",
       "      <td>NaN</td>\n",
       "      <td>NaN</td>\n",
       "    </tr>\n",
       "    <tr>\n",
       "      <th>39716</th>\n",
       "      <td>87023</td>\n",
       "      <td>86999</td>\n",
       "      <td>7500</td>\n",
       "      <td>7500</td>\n",
       "      <td>800.0</td>\n",
       "      <td>36 months</td>\n",
       "      <td>13.75%</td>\n",
       "      <td>255.43</td>\n",
       "      <td>E</td>\n",
       "      <td>E2</td>\n",
       "      <td>...</td>\n",
       "      <td>NaN</td>\n",
       "      <td>NaN</td>\n",
       "      <td>NaN</td>\n",
       "      <td>NaN</td>\n",
       "      <td>NaN</td>\n",
       "      <td>NaN</td>\n",
       "      <td>NaN</td>\n",
       "      <td>NaN</td>\n",
       "      <td>NaN</td>\n",
       "      <td>NaN</td>\n",
       "    </tr>\n",
       "  </tbody>\n",
       "</table>\n",
       "<p>5 rows × 111 columns</p>\n",
       "</div>"
      ],
      "text/plain": [
       "          id  member_id  loan_amnt  funded_amnt  funded_amnt_inv        term  \\\n",
       "39712  92187      92174       2500         2500           1075.0   36 months   \n",
       "39713  90665      90607       8500         8500            875.0   36 months   \n",
       "39714  90395      90390       5000         5000           1325.0   36 months   \n",
       "39715  90376      89243       5000         5000            650.0   36 months   \n",
       "39716  87023      86999       7500         7500            800.0   36 months   \n",
       "\n",
       "      int_rate  installment grade sub_grade  ... num_tl_90g_dpd_24m  \\\n",
       "39712    8.07%        78.42     A        A4  ...                NaN   \n",
       "39713   10.28%       275.38     C        C1  ...                NaN   \n",
       "39714    8.07%       156.84     A        A4  ...                NaN   \n",
       "39715    7.43%       155.38     A        A2  ...                NaN   \n",
       "39716   13.75%       255.43     E        E2  ...                NaN   \n",
       "\n",
       "      num_tl_op_past_12m pct_tl_nvr_dlq  percent_bc_gt_75  \\\n",
       "39712                NaN            NaN               NaN   \n",
       "39713                NaN            NaN               NaN   \n",
       "39714                NaN            NaN               NaN   \n",
       "39715                NaN            NaN               NaN   \n",
       "39716                NaN            NaN               NaN   \n",
       "\n",
       "      pub_rec_bankruptcies tax_liens tot_hi_cred_lim total_bal_ex_mort  \\\n",
       "39712                  NaN       NaN             NaN               NaN   \n",
       "39713                  NaN       NaN             NaN               NaN   \n",
       "39714                  NaN       NaN             NaN               NaN   \n",
       "39715                  NaN       NaN             NaN               NaN   \n",
       "39716                  NaN       NaN             NaN               NaN   \n",
       "\n",
       "      total_bc_limit total_il_high_credit_limit  \n",
       "39712            NaN                        NaN  \n",
       "39713            NaN                        NaN  \n",
       "39714            NaN                        NaN  \n",
       "39715            NaN                        NaN  \n",
       "39716            NaN                        NaN  \n",
       "\n",
       "[5 rows x 111 columns]"
      ]
     },
     "execution_count": 9,
     "metadata": {},
     "output_type": "execute_result"
    }
   ],
   "source": [
    "loan_df.tail()\n"
   ]
  },
  {
   "cell_type": "markdown",
   "id": "9813cf72",
   "metadata": {
    "id": "31dcae48"
   },
   "source": [
    "### From above bottom rows listing we observe that we dont have any summary rows in footer as well.\n"
   ]
  },
  {
   "cell_type": "code",
   "execution_count": 11,
   "id": "2bef57cc",
   "metadata": {
    "id": "4ec3d729"
   },
   "outputs": [],
   "source": [
    "### Since we are concerned about the current loan status of the client as we need to relate it to other factors we will take into consideration only charged off and fully paid data.\n"
   ]
  },
  {
   "cell_type": "code",
   "execution_count": 12,
   "id": "2eb035db",
   "metadata": {},
   "outputs": [
    {
     "data": {
      "text/plain": [
       "Fully Paid     32950\n",
       "Charged Off     5627\n",
       "Current         1140\n",
       "Name: loan_status, dtype: int64"
      ]
     },
     "execution_count": 12,
     "metadata": {},
     "output_type": "execute_result"
    }
   ],
   "source": [
    "#check for unique value counts in loan status\n",
    "loan_df['loan_status'].value_counts()"
   ]
  },
  {
   "cell_type": "markdown",
   "id": "43bc4900",
   "metadata": {},
   "source": [
    "### Removing rows with loan_status=='Current' as this is an ongoing loan and would not help in decision making for accepting or rejecting new loans"
   ]
  },
  {
   "cell_type": "code",
   "execution_count": 13,
   "id": "24e0e283",
   "metadata": {
    "id": "24e0e283"
   },
   "outputs": [
    {
     "name": "stdout",
     "output_type": "stream",
     "text": [
      "Row count after deletion: 38577\n"
     ]
    }
   ],
   "source": [
    "loan_df= loan_df[loan_df['loan_status']!='Current']\n",
    "print(\"Row count after deletion:\",len(loan_df)) "
   ]
  },
  {
   "cell_type": "markdown",
   "id": "f3049f0b",
   "metadata": {},
   "source": [
    "### Check for duplicate rows"
   ]
  },
  {
   "cell_type": "code",
   "execution_count": 14,
   "id": "187791bd",
   "metadata": {
    "id": "187791bd"
   },
   "outputs": [
    {
     "name": "stdout",
     "output_type": "stream",
     "text": [
      "Duplicate rows count: 0\n"
     ]
    }
   ],
   "source": [
    "duplicate_rows = len(loan_df[loan_df.duplicated()])\n",
    "print(\"Duplicate rows count:\",round(duplicate_rows,2))\n"
   ]
  },
  {
   "cell_type": "markdown",
   "id": "097cf44c",
   "metadata": {
    "id": "7060a2d7"
   },
   "source": [
    "### Deleting insignificant columns"
   ]
  },
  {
   "cell_type": "markdown",
   "id": "5914c57f",
   "metadata": {},
   "source": [
    "### Now we need to look for all columns which have all unique values as it wont make sense to analyse those."
   ]
  },
  {
   "cell_type": "code",
   "execution_count": 23,
   "id": "2e74efe6",
   "metadata": {
    "id": "8140c140"
   },
   "outputs": [
    {
     "data": {
      "text/plain": [
       "[]"
      ]
     },
     "execution_count": 23,
     "metadata": {},
     "output_type": "execute_result"
    }
   ],
   "source": [
    "\n",
    "unique_columns = [col for col in loan_df.columns if loan_df[col].nunique() == len(loan_df)]\n",
    "unique_columns\n"
   ]
  },
  {
   "cell_type": "code",
   "execution_count": 21,
   "id": "d24f6ba0",
   "metadata": {
    "id": "cc2c5f67"
   },
   "outputs": [],
   "source": [
    "# We will drop above list of unique columns as it dosent help in analysis\n",
    "loan_df.drop(['id', 'url','member_id'],axis=1, inplace=True)\n"
   ]
  },
  {
   "cell_type": "code",
   "execution_count": 22,
   "id": "7be97819",
   "metadata": {
    "colab": {
     "base_uri": "https://localhost:8080/"
    },
    "id": "db793c0e",
    "outputId": "de39ccb0-6ebc-43df-82d3-a493aeda6d90"
   },
   "outputs": [
    {
     "data": {
      "text/plain": [
       "(38577, 53)"
      ]
     },
     "execution_count": 22,
     "metadata": {},
     "output_type": "execute_result"
    }
   ],
   "source": [
    "loan_df.shape"
   ]
  },
  {
   "cell_type": "code",
   "execution_count": 15,
   "id": "a98a6e64",
   "metadata": {
    "id": "a98a6e64"
   },
   "outputs": [
    {
     "data": {
      "text/plain": [
       "(38577, 111)"
      ]
     },
     "execution_count": 15,
     "metadata": {},
     "output_type": "execute_result"
    }
   ],
   "source": [
    "loan_df.shape # current shape of data"
   ]
  },
  {
   "cell_type": "code",
   "execution_count": 16,
   "id": "38577c0c",
   "metadata": {
    "id": "38577c0c"
   },
   "outputs": [
    {
     "data": {
      "text/plain": [
       "id                              0.000000\n",
       "member_id                       0.000000\n",
       "loan_amnt                       0.000000\n",
       "funded_amnt                     0.000000\n",
       "funded_amnt_inv                 0.000000\n",
       "                                 ...    \n",
       "tax_liens                       0.101097\n",
       "tot_hi_cred_lim               100.000000\n",
       "total_bal_ex_mort             100.000000\n",
       "total_bc_limit                100.000000\n",
       "total_il_high_credit_limit    100.000000\n",
       "Length: 111, dtype: float64"
      ]
     },
     "execution_count": 16,
     "metadata": {},
     "output_type": "execute_result"
    }
   ],
   "source": [
    "# Check if columns have null or blank values.\n",
    "(loan_df.isnull().sum()*100)/len(loan_df)"
   ]
  },
  {
   "cell_type": "markdown",
   "id": "f1e14c07",
   "metadata": {
    "id": "5aaab149"
   },
   "source": [
    "### From above output we can conclude that many columns have null or blank values. We can safely remove such columns as they wont play any role in analysis"
   ]
  },
  {
   "cell_type": "code",
   "execution_count": 17,
   "id": "55f0daf6",
   "metadata": {
    "id": "55f0daf6",
    "scrolled": true
   },
   "outputs": [
    {
     "name": "stdout",
     "output_type": "stream",
     "text": [
      "Total columns with values NULL alues:  55\n",
      "NA colums List:\n"
     ]
    },
    {
     "data": {
      "text/plain": [
       "['next_pymnt_d',\n",
       " 'mths_since_last_major_derog',\n",
       " 'annual_inc_joint',\n",
       " 'dti_joint',\n",
       " 'verification_status_joint',\n",
       " 'tot_coll_amt',\n",
       " 'tot_cur_bal',\n",
       " 'open_acc_6m',\n",
       " 'open_il_6m',\n",
       " 'open_il_12m',\n",
       " 'open_il_24m',\n",
       " 'mths_since_rcnt_il',\n",
       " 'total_bal_il',\n",
       " 'il_util',\n",
       " 'open_rv_12m',\n",
       " 'open_rv_24m',\n",
       " 'max_bal_bc',\n",
       " 'all_util',\n",
       " 'total_rev_hi_lim',\n",
       " 'inq_fi',\n",
       " 'total_cu_tl',\n",
       " 'inq_last_12m',\n",
       " 'acc_open_past_24mths',\n",
       " 'avg_cur_bal',\n",
       " 'bc_open_to_buy',\n",
       " 'bc_util',\n",
       " 'mo_sin_old_il_acct',\n",
       " 'mo_sin_old_rev_tl_op',\n",
       " 'mo_sin_rcnt_rev_tl_op',\n",
       " 'mo_sin_rcnt_tl',\n",
       " 'mort_acc',\n",
       " 'mths_since_recent_bc',\n",
       " 'mths_since_recent_bc_dlq',\n",
       " 'mths_since_recent_inq',\n",
       " 'mths_since_recent_revol_delinq',\n",
       " 'num_accts_ever_120_pd',\n",
       " 'num_actv_bc_tl',\n",
       " 'num_actv_rev_tl',\n",
       " 'num_bc_sats',\n",
       " 'num_bc_tl',\n",
       " 'num_il_tl',\n",
       " 'num_op_rev_tl',\n",
       " 'num_rev_accts',\n",
       " 'num_rev_tl_bal_gt_0',\n",
       " 'num_sats',\n",
       " 'num_tl_120dpd_2m',\n",
       " 'num_tl_30dpd',\n",
       " 'num_tl_90g_dpd_24m',\n",
       " 'num_tl_op_past_12m',\n",
       " 'pct_tl_nvr_dlq',\n",
       " 'percent_bc_gt_75',\n",
       " 'tot_hi_cred_lim',\n",
       " 'total_bal_ex_mort',\n",
       " 'total_bc_limit',\n",
       " 'total_il_high_credit_limit']"
      ]
     },
     "execution_count": 17,
     "metadata": {},
     "output_type": "execute_result"
    }
   ],
   "source": [
    "print(\"Total columns with values NULL alues: \", len(loan_df.columns[loan_df.isna().all()].tolist()))\n",
    "na_columns=list(loan_df.columns[loan_df.isna().all()])\n",
    "print(\"NA colums List:\")\n",
    "na_columns"
   ]
  },
  {
   "cell_type": "code",
   "execution_count": 18,
   "id": "7ec90a0c",
   "metadata": {
    "id": "7ec90a0c"
   },
   "outputs": [
    {
     "data": {
      "text/html": [
       "<div>\n",
       "<style scoped>\n",
       "    .dataframe tbody tr th:only-of-type {\n",
       "        vertical-align: middle;\n",
       "    }\n",
       "\n",
       "    .dataframe tbody tr th {\n",
       "        vertical-align: top;\n",
       "    }\n",
       "\n",
       "    .dataframe thead th {\n",
       "        text-align: right;\n",
       "    }\n",
       "</style>\n",
       "<table border=\"1\" class=\"dataframe\">\n",
       "  <thead>\n",
       "    <tr style=\"text-align: right;\">\n",
       "      <th></th>\n",
       "      <th>id</th>\n",
       "      <th>member_id</th>\n",
       "      <th>loan_amnt</th>\n",
       "      <th>funded_amnt</th>\n",
       "      <th>funded_amnt_inv</th>\n",
       "      <th>term</th>\n",
       "      <th>int_rate</th>\n",
       "      <th>installment</th>\n",
       "      <th>grade</th>\n",
       "      <th>sub_grade</th>\n",
       "      <th>...</th>\n",
       "      <th>last_pymnt_amnt</th>\n",
       "      <th>last_credit_pull_d</th>\n",
       "      <th>collections_12_mths_ex_med</th>\n",
       "      <th>policy_code</th>\n",
       "      <th>application_type</th>\n",
       "      <th>acc_now_delinq</th>\n",
       "      <th>chargeoff_within_12_mths</th>\n",
       "      <th>delinq_amnt</th>\n",
       "      <th>pub_rec_bankruptcies</th>\n",
       "      <th>tax_liens</th>\n",
       "    </tr>\n",
       "  </thead>\n",
       "  <tbody>\n",
       "    <tr>\n",
       "      <th>0</th>\n",
       "      <td>1077501</td>\n",
       "      <td>1296599</td>\n",
       "      <td>5000</td>\n",
       "      <td>5000</td>\n",
       "      <td>4975.0</td>\n",
       "      <td>36 months</td>\n",
       "      <td>10.65%</td>\n",
       "      <td>162.87</td>\n",
       "      <td>B</td>\n",
       "      <td>B2</td>\n",
       "      <td>...</td>\n",
       "      <td>171.62</td>\n",
       "      <td>May-16</td>\n",
       "      <td>0.0</td>\n",
       "      <td>1</td>\n",
       "      <td>INDIVIDUAL</td>\n",
       "      <td>0</td>\n",
       "      <td>0.0</td>\n",
       "      <td>0</td>\n",
       "      <td>0.0</td>\n",
       "      <td>0.0</td>\n",
       "    </tr>\n",
       "    <tr>\n",
       "      <th>1</th>\n",
       "      <td>1077430</td>\n",
       "      <td>1314167</td>\n",
       "      <td>2500</td>\n",
       "      <td>2500</td>\n",
       "      <td>2500.0</td>\n",
       "      <td>60 months</td>\n",
       "      <td>15.27%</td>\n",
       "      <td>59.83</td>\n",
       "      <td>C</td>\n",
       "      <td>C4</td>\n",
       "      <td>...</td>\n",
       "      <td>119.66</td>\n",
       "      <td>Sep-13</td>\n",
       "      <td>0.0</td>\n",
       "      <td>1</td>\n",
       "      <td>INDIVIDUAL</td>\n",
       "      <td>0</td>\n",
       "      <td>0.0</td>\n",
       "      <td>0</td>\n",
       "      <td>0.0</td>\n",
       "      <td>0.0</td>\n",
       "    </tr>\n",
       "    <tr>\n",
       "      <th>2</th>\n",
       "      <td>1077175</td>\n",
       "      <td>1313524</td>\n",
       "      <td>2400</td>\n",
       "      <td>2400</td>\n",
       "      <td>2400.0</td>\n",
       "      <td>36 months</td>\n",
       "      <td>15.96%</td>\n",
       "      <td>84.33</td>\n",
       "      <td>C</td>\n",
       "      <td>C5</td>\n",
       "      <td>...</td>\n",
       "      <td>649.91</td>\n",
       "      <td>May-16</td>\n",
       "      <td>0.0</td>\n",
       "      <td>1</td>\n",
       "      <td>INDIVIDUAL</td>\n",
       "      <td>0</td>\n",
       "      <td>0.0</td>\n",
       "      <td>0</td>\n",
       "      <td>0.0</td>\n",
       "      <td>0.0</td>\n",
       "    </tr>\n",
       "    <tr>\n",
       "      <th>3</th>\n",
       "      <td>1076863</td>\n",
       "      <td>1277178</td>\n",
       "      <td>10000</td>\n",
       "      <td>10000</td>\n",
       "      <td>10000.0</td>\n",
       "      <td>36 months</td>\n",
       "      <td>13.49%</td>\n",
       "      <td>339.31</td>\n",
       "      <td>C</td>\n",
       "      <td>C1</td>\n",
       "      <td>...</td>\n",
       "      <td>357.48</td>\n",
       "      <td>Apr-16</td>\n",
       "      <td>0.0</td>\n",
       "      <td>1</td>\n",
       "      <td>INDIVIDUAL</td>\n",
       "      <td>0</td>\n",
       "      <td>0.0</td>\n",
       "      <td>0</td>\n",
       "      <td>0.0</td>\n",
       "      <td>0.0</td>\n",
       "    </tr>\n",
       "    <tr>\n",
       "      <th>5</th>\n",
       "      <td>1075269</td>\n",
       "      <td>1311441</td>\n",
       "      <td>5000</td>\n",
       "      <td>5000</td>\n",
       "      <td>5000.0</td>\n",
       "      <td>36 months</td>\n",
       "      <td>7.90%</td>\n",
       "      <td>156.46</td>\n",
       "      <td>A</td>\n",
       "      <td>A4</td>\n",
       "      <td>...</td>\n",
       "      <td>161.03</td>\n",
       "      <td>Jan-16</td>\n",
       "      <td>0.0</td>\n",
       "      <td>1</td>\n",
       "      <td>INDIVIDUAL</td>\n",
       "      <td>0</td>\n",
       "      <td>0.0</td>\n",
       "      <td>0</td>\n",
       "      <td>0.0</td>\n",
       "      <td>0.0</td>\n",
       "    </tr>\n",
       "    <tr>\n",
       "      <th>...</th>\n",
       "      <td>...</td>\n",
       "      <td>...</td>\n",
       "      <td>...</td>\n",
       "      <td>...</td>\n",
       "      <td>...</td>\n",
       "      <td>...</td>\n",
       "      <td>...</td>\n",
       "      <td>...</td>\n",
       "      <td>...</td>\n",
       "      <td>...</td>\n",
       "      <td>...</td>\n",
       "      <td>...</td>\n",
       "      <td>...</td>\n",
       "      <td>...</td>\n",
       "      <td>...</td>\n",
       "      <td>...</td>\n",
       "      <td>...</td>\n",
       "      <td>...</td>\n",
       "      <td>...</td>\n",
       "      <td>...</td>\n",
       "      <td>...</td>\n",
       "    </tr>\n",
       "    <tr>\n",
       "      <th>39712</th>\n",
       "      <td>92187</td>\n",
       "      <td>92174</td>\n",
       "      <td>2500</td>\n",
       "      <td>2500</td>\n",
       "      <td>1075.0</td>\n",
       "      <td>36 months</td>\n",
       "      <td>8.07%</td>\n",
       "      <td>78.42</td>\n",
       "      <td>A</td>\n",
       "      <td>A4</td>\n",
       "      <td>...</td>\n",
       "      <td>80.90</td>\n",
       "      <td>Jun-10</td>\n",
       "      <td>NaN</td>\n",
       "      <td>1</td>\n",
       "      <td>INDIVIDUAL</td>\n",
       "      <td>0</td>\n",
       "      <td>NaN</td>\n",
       "      <td>0</td>\n",
       "      <td>NaN</td>\n",
       "      <td>NaN</td>\n",
       "    </tr>\n",
       "    <tr>\n",
       "      <th>39713</th>\n",
       "      <td>90665</td>\n",
       "      <td>90607</td>\n",
       "      <td>8500</td>\n",
       "      <td>8500</td>\n",
       "      <td>875.0</td>\n",
       "      <td>36 months</td>\n",
       "      <td>10.28%</td>\n",
       "      <td>275.38</td>\n",
       "      <td>C</td>\n",
       "      <td>C1</td>\n",
       "      <td>...</td>\n",
       "      <td>281.94</td>\n",
       "      <td>Jul-10</td>\n",
       "      <td>NaN</td>\n",
       "      <td>1</td>\n",
       "      <td>INDIVIDUAL</td>\n",
       "      <td>0</td>\n",
       "      <td>NaN</td>\n",
       "      <td>0</td>\n",
       "      <td>NaN</td>\n",
       "      <td>NaN</td>\n",
       "    </tr>\n",
       "    <tr>\n",
       "      <th>39714</th>\n",
       "      <td>90395</td>\n",
       "      <td>90390</td>\n",
       "      <td>5000</td>\n",
       "      <td>5000</td>\n",
       "      <td>1325.0</td>\n",
       "      <td>36 months</td>\n",
       "      <td>8.07%</td>\n",
       "      <td>156.84</td>\n",
       "      <td>A</td>\n",
       "      <td>A4</td>\n",
       "      <td>...</td>\n",
       "      <td>0.00</td>\n",
       "      <td>Jun-07</td>\n",
       "      <td>NaN</td>\n",
       "      <td>1</td>\n",
       "      <td>INDIVIDUAL</td>\n",
       "      <td>0</td>\n",
       "      <td>NaN</td>\n",
       "      <td>0</td>\n",
       "      <td>NaN</td>\n",
       "      <td>NaN</td>\n",
       "    </tr>\n",
       "    <tr>\n",
       "      <th>39715</th>\n",
       "      <td>90376</td>\n",
       "      <td>89243</td>\n",
       "      <td>5000</td>\n",
       "      <td>5000</td>\n",
       "      <td>650.0</td>\n",
       "      <td>36 months</td>\n",
       "      <td>7.43%</td>\n",
       "      <td>155.38</td>\n",
       "      <td>A</td>\n",
       "      <td>A2</td>\n",
       "      <td>...</td>\n",
       "      <td>0.00</td>\n",
       "      <td>Jun-07</td>\n",
       "      <td>NaN</td>\n",
       "      <td>1</td>\n",
       "      <td>INDIVIDUAL</td>\n",
       "      <td>0</td>\n",
       "      <td>NaN</td>\n",
       "      <td>0</td>\n",
       "      <td>NaN</td>\n",
       "      <td>NaN</td>\n",
       "    </tr>\n",
       "    <tr>\n",
       "      <th>39716</th>\n",
       "      <td>87023</td>\n",
       "      <td>86999</td>\n",
       "      <td>7500</td>\n",
       "      <td>7500</td>\n",
       "      <td>800.0</td>\n",
       "      <td>36 months</td>\n",
       "      <td>13.75%</td>\n",
       "      <td>255.43</td>\n",
       "      <td>E</td>\n",
       "      <td>E2</td>\n",
       "      <td>...</td>\n",
       "      <td>256.59</td>\n",
       "      <td>Jun-10</td>\n",
       "      <td>NaN</td>\n",
       "      <td>1</td>\n",
       "      <td>INDIVIDUAL</td>\n",
       "      <td>0</td>\n",
       "      <td>NaN</td>\n",
       "      <td>0</td>\n",
       "      <td>NaN</td>\n",
       "      <td>NaN</td>\n",
       "    </tr>\n",
       "  </tbody>\n",
       "</table>\n",
       "<p>38577 rows × 56 columns</p>\n",
       "</div>"
      ],
      "text/plain": [
       "            id  member_id  loan_amnt  funded_amnt  funded_amnt_inv  \\\n",
       "0      1077501    1296599       5000         5000           4975.0   \n",
       "1      1077430    1314167       2500         2500           2500.0   \n",
       "2      1077175    1313524       2400         2400           2400.0   \n",
       "3      1076863    1277178      10000        10000          10000.0   \n",
       "5      1075269    1311441       5000         5000           5000.0   \n",
       "...        ...        ...        ...          ...              ...   \n",
       "39712    92187      92174       2500         2500           1075.0   \n",
       "39713    90665      90607       8500         8500            875.0   \n",
       "39714    90395      90390       5000         5000           1325.0   \n",
       "39715    90376      89243       5000         5000            650.0   \n",
       "39716    87023      86999       7500         7500            800.0   \n",
       "\n",
       "             term int_rate  installment grade sub_grade  ... last_pymnt_amnt  \\\n",
       "0       36 months   10.65%       162.87     B        B2  ...          171.62   \n",
       "1       60 months   15.27%        59.83     C        C4  ...          119.66   \n",
       "2       36 months   15.96%        84.33     C        C5  ...          649.91   \n",
       "3       36 months   13.49%       339.31     C        C1  ...          357.48   \n",
       "5       36 months    7.90%       156.46     A        A4  ...          161.03   \n",
       "...           ...      ...          ...   ...       ...  ...             ...   \n",
       "39712   36 months    8.07%        78.42     A        A4  ...           80.90   \n",
       "39713   36 months   10.28%       275.38     C        C1  ...          281.94   \n",
       "39714   36 months    8.07%       156.84     A        A4  ...            0.00   \n",
       "39715   36 months    7.43%       155.38     A        A2  ...            0.00   \n",
       "39716   36 months   13.75%       255.43     E        E2  ...          256.59   \n",
       "\n",
       "      last_credit_pull_d collections_12_mths_ex_med  policy_code  \\\n",
       "0                 May-16                        0.0            1   \n",
       "1                 Sep-13                        0.0            1   \n",
       "2                 May-16                        0.0            1   \n",
       "3                 Apr-16                        0.0            1   \n",
       "5                 Jan-16                        0.0            1   \n",
       "...                  ...                        ...          ...   \n",
       "39712             Jun-10                        NaN            1   \n",
       "39713             Jul-10                        NaN            1   \n",
       "39714             Jun-07                        NaN            1   \n",
       "39715             Jun-07                        NaN            1   \n",
       "39716             Jun-10                        NaN            1   \n",
       "\n",
       "      application_type acc_now_delinq chargeoff_within_12_mths delinq_amnt  \\\n",
       "0           INDIVIDUAL              0                      0.0           0   \n",
       "1           INDIVIDUAL              0                      0.0           0   \n",
       "2           INDIVIDUAL              0                      0.0           0   \n",
       "3           INDIVIDUAL              0                      0.0           0   \n",
       "5           INDIVIDUAL              0                      0.0           0   \n",
       "...                ...            ...                      ...         ...   \n",
       "39712       INDIVIDUAL              0                      NaN           0   \n",
       "39713       INDIVIDUAL              0                      NaN           0   \n",
       "39714       INDIVIDUAL              0                      NaN           0   \n",
       "39715       INDIVIDUAL              0                      NaN           0   \n",
       "39716       INDIVIDUAL              0                      NaN           0   \n",
       "\n",
       "      pub_rec_bankruptcies tax_liens  \n",
       "0                      0.0       0.0  \n",
       "1                      0.0       0.0  \n",
       "2                      0.0       0.0  \n",
       "3                      0.0       0.0  \n",
       "5                      0.0       0.0  \n",
       "...                    ...       ...  \n",
       "39712                  NaN       NaN  \n",
       "39713                  NaN       NaN  \n",
       "39714                  NaN       NaN  \n",
       "39715                  NaN       NaN  \n",
       "39716                  NaN       NaN  \n",
       "\n",
       "[38577 rows x 56 columns]"
      ]
     },
     "execution_count": 18,
     "metadata": {},
     "output_type": "execute_result"
    }
   ],
   "source": [
    "# Drop all columns having null values.\n",
    "loan_df = loan_df.dropna(axis=1, how=\"all\")\n",
    "loan_df"
   ]
  },
  {
   "cell_type": "code",
   "execution_count": 19,
   "id": "7fc372be",
   "metadata": {
    "id": "7fc372be"
   },
   "outputs": [
    {
     "data": {
      "text/html": [
       "<div>\n",
       "<style scoped>\n",
       "    .dataframe tbody tr th:only-of-type {\n",
       "        vertical-align: middle;\n",
       "    }\n",
       "\n",
       "    .dataframe tbody tr th {\n",
       "        vertical-align: top;\n",
       "    }\n",
       "\n",
       "    .dataframe thead th {\n",
       "        text-align: right;\n",
       "    }\n",
       "</style>\n",
       "<table border=\"1\" class=\"dataframe\">\n",
       "  <thead>\n",
       "    <tr style=\"text-align: right;\">\n",
       "      <th></th>\n",
       "      <th>id</th>\n",
       "      <th>member_id</th>\n",
       "      <th>loan_amnt</th>\n",
       "      <th>funded_amnt</th>\n",
       "      <th>funded_amnt_inv</th>\n",
       "      <th>term</th>\n",
       "      <th>int_rate</th>\n",
       "      <th>installment</th>\n",
       "      <th>grade</th>\n",
       "      <th>sub_grade</th>\n",
       "      <th>...</th>\n",
       "      <th>last_pymnt_amnt</th>\n",
       "      <th>last_credit_pull_d</th>\n",
       "      <th>collections_12_mths_ex_med</th>\n",
       "      <th>policy_code</th>\n",
       "      <th>application_type</th>\n",
       "      <th>acc_now_delinq</th>\n",
       "      <th>chargeoff_within_12_mths</th>\n",
       "      <th>delinq_amnt</th>\n",
       "      <th>pub_rec_bankruptcies</th>\n",
       "      <th>tax_liens</th>\n",
       "    </tr>\n",
       "  </thead>\n",
       "  <tbody>\n",
       "    <tr>\n",
       "      <th>0</th>\n",
       "      <td>1077501</td>\n",
       "      <td>1296599</td>\n",
       "      <td>5000</td>\n",
       "      <td>5000</td>\n",
       "      <td>4975.0</td>\n",
       "      <td>36 months</td>\n",
       "      <td>10.65%</td>\n",
       "      <td>162.87</td>\n",
       "      <td>B</td>\n",
       "      <td>B2</td>\n",
       "      <td>...</td>\n",
       "      <td>171.62</td>\n",
       "      <td>May-16</td>\n",
       "      <td>0.0</td>\n",
       "      <td>1</td>\n",
       "      <td>INDIVIDUAL</td>\n",
       "      <td>0</td>\n",
       "      <td>0.0</td>\n",
       "      <td>0</td>\n",
       "      <td>0.0</td>\n",
       "      <td>0.0</td>\n",
       "    </tr>\n",
       "    <tr>\n",
       "      <th>1</th>\n",
       "      <td>1077430</td>\n",
       "      <td>1314167</td>\n",
       "      <td>2500</td>\n",
       "      <td>2500</td>\n",
       "      <td>2500.0</td>\n",
       "      <td>60 months</td>\n",
       "      <td>15.27%</td>\n",
       "      <td>59.83</td>\n",
       "      <td>C</td>\n",
       "      <td>C4</td>\n",
       "      <td>...</td>\n",
       "      <td>119.66</td>\n",
       "      <td>Sep-13</td>\n",
       "      <td>0.0</td>\n",
       "      <td>1</td>\n",
       "      <td>INDIVIDUAL</td>\n",
       "      <td>0</td>\n",
       "      <td>0.0</td>\n",
       "      <td>0</td>\n",
       "      <td>0.0</td>\n",
       "      <td>0.0</td>\n",
       "    </tr>\n",
       "    <tr>\n",
       "      <th>2</th>\n",
       "      <td>1077175</td>\n",
       "      <td>1313524</td>\n",
       "      <td>2400</td>\n",
       "      <td>2400</td>\n",
       "      <td>2400.0</td>\n",
       "      <td>36 months</td>\n",
       "      <td>15.96%</td>\n",
       "      <td>84.33</td>\n",
       "      <td>C</td>\n",
       "      <td>C5</td>\n",
       "      <td>...</td>\n",
       "      <td>649.91</td>\n",
       "      <td>May-16</td>\n",
       "      <td>0.0</td>\n",
       "      <td>1</td>\n",
       "      <td>INDIVIDUAL</td>\n",
       "      <td>0</td>\n",
       "      <td>0.0</td>\n",
       "      <td>0</td>\n",
       "      <td>0.0</td>\n",
       "      <td>0.0</td>\n",
       "    </tr>\n",
       "    <tr>\n",
       "      <th>3</th>\n",
       "      <td>1076863</td>\n",
       "      <td>1277178</td>\n",
       "      <td>10000</td>\n",
       "      <td>10000</td>\n",
       "      <td>10000.0</td>\n",
       "      <td>36 months</td>\n",
       "      <td>13.49%</td>\n",
       "      <td>339.31</td>\n",
       "      <td>C</td>\n",
       "      <td>C1</td>\n",
       "      <td>...</td>\n",
       "      <td>357.48</td>\n",
       "      <td>Apr-16</td>\n",
       "      <td>0.0</td>\n",
       "      <td>1</td>\n",
       "      <td>INDIVIDUAL</td>\n",
       "      <td>0</td>\n",
       "      <td>0.0</td>\n",
       "      <td>0</td>\n",
       "      <td>0.0</td>\n",
       "      <td>0.0</td>\n",
       "    </tr>\n",
       "    <tr>\n",
       "      <th>5</th>\n",
       "      <td>1075269</td>\n",
       "      <td>1311441</td>\n",
       "      <td>5000</td>\n",
       "      <td>5000</td>\n",
       "      <td>5000.0</td>\n",
       "      <td>36 months</td>\n",
       "      <td>7.90%</td>\n",
       "      <td>156.46</td>\n",
       "      <td>A</td>\n",
       "      <td>A4</td>\n",
       "      <td>...</td>\n",
       "      <td>161.03</td>\n",
       "      <td>Jan-16</td>\n",
       "      <td>0.0</td>\n",
       "      <td>1</td>\n",
       "      <td>INDIVIDUAL</td>\n",
       "      <td>0</td>\n",
       "      <td>0.0</td>\n",
       "      <td>0</td>\n",
       "      <td>0.0</td>\n",
       "      <td>0.0</td>\n",
       "    </tr>\n",
       "    <tr>\n",
       "      <th>...</th>\n",
       "      <td>...</td>\n",
       "      <td>...</td>\n",
       "      <td>...</td>\n",
       "      <td>...</td>\n",
       "      <td>...</td>\n",
       "      <td>...</td>\n",
       "      <td>...</td>\n",
       "      <td>...</td>\n",
       "      <td>...</td>\n",
       "      <td>...</td>\n",
       "      <td>...</td>\n",
       "      <td>...</td>\n",
       "      <td>...</td>\n",
       "      <td>...</td>\n",
       "      <td>...</td>\n",
       "      <td>...</td>\n",
       "      <td>...</td>\n",
       "      <td>...</td>\n",
       "      <td>...</td>\n",
       "      <td>...</td>\n",
       "      <td>...</td>\n",
       "    </tr>\n",
       "    <tr>\n",
       "      <th>39712</th>\n",
       "      <td>92187</td>\n",
       "      <td>92174</td>\n",
       "      <td>2500</td>\n",
       "      <td>2500</td>\n",
       "      <td>1075.0</td>\n",
       "      <td>36 months</td>\n",
       "      <td>8.07%</td>\n",
       "      <td>78.42</td>\n",
       "      <td>A</td>\n",
       "      <td>A4</td>\n",
       "      <td>...</td>\n",
       "      <td>80.90</td>\n",
       "      <td>Jun-10</td>\n",
       "      <td>NaN</td>\n",
       "      <td>1</td>\n",
       "      <td>INDIVIDUAL</td>\n",
       "      <td>0</td>\n",
       "      <td>NaN</td>\n",
       "      <td>0</td>\n",
       "      <td>NaN</td>\n",
       "      <td>NaN</td>\n",
       "    </tr>\n",
       "    <tr>\n",
       "      <th>39713</th>\n",
       "      <td>90665</td>\n",
       "      <td>90607</td>\n",
       "      <td>8500</td>\n",
       "      <td>8500</td>\n",
       "      <td>875.0</td>\n",
       "      <td>36 months</td>\n",
       "      <td>10.28%</td>\n",
       "      <td>275.38</td>\n",
       "      <td>C</td>\n",
       "      <td>C1</td>\n",
       "      <td>...</td>\n",
       "      <td>281.94</td>\n",
       "      <td>Jul-10</td>\n",
       "      <td>NaN</td>\n",
       "      <td>1</td>\n",
       "      <td>INDIVIDUAL</td>\n",
       "      <td>0</td>\n",
       "      <td>NaN</td>\n",
       "      <td>0</td>\n",
       "      <td>NaN</td>\n",
       "      <td>NaN</td>\n",
       "    </tr>\n",
       "    <tr>\n",
       "      <th>39714</th>\n",
       "      <td>90395</td>\n",
       "      <td>90390</td>\n",
       "      <td>5000</td>\n",
       "      <td>5000</td>\n",
       "      <td>1325.0</td>\n",
       "      <td>36 months</td>\n",
       "      <td>8.07%</td>\n",
       "      <td>156.84</td>\n",
       "      <td>A</td>\n",
       "      <td>A4</td>\n",
       "      <td>...</td>\n",
       "      <td>0.00</td>\n",
       "      <td>Jun-07</td>\n",
       "      <td>NaN</td>\n",
       "      <td>1</td>\n",
       "      <td>INDIVIDUAL</td>\n",
       "      <td>0</td>\n",
       "      <td>NaN</td>\n",
       "      <td>0</td>\n",
       "      <td>NaN</td>\n",
       "      <td>NaN</td>\n",
       "    </tr>\n",
       "    <tr>\n",
       "      <th>39715</th>\n",
       "      <td>90376</td>\n",
       "      <td>89243</td>\n",
       "      <td>5000</td>\n",
       "      <td>5000</td>\n",
       "      <td>650.0</td>\n",
       "      <td>36 months</td>\n",
       "      <td>7.43%</td>\n",
       "      <td>155.38</td>\n",
       "      <td>A</td>\n",
       "      <td>A2</td>\n",
       "      <td>...</td>\n",
       "      <td>0.00</td>\n",
       "      <td>Jun-07</td>\n",
       "      <td>NaN</td>\n",
       "      <td>1</td>\n",
       "      <td>INDIVIDUAL</td>\n",
       "      <td>0</td>\n",
       "      <td>NaN</td>\n",
       "      <td>0</td>\n",
       "      <td>NaN</td>\n",
       "      <td>NaN</td>\n",
       "    </tr>\n",
       "    <tr>\n",
       "      <th>39716</th>\n",
       "      <td>87023</td>\n",
       "      <td>86999</td>\n",
       "      <td>7500</td>\n",
       "      <td>7500</td>\n",
       "      <td>800.0</td>\n",
       "      <td>36 months</td>\n",
       "      <td>13.75%</td>\n",
       "      <td>255.43</td>\n",
       "      <td>E</td>\n",
       "      <td>E2</td>\n",
       "      <td>...</td>\n",
       "      <td>256.59</td>\n",
       "      <td>Jun-10</td>\n",
       "      <td>NaN</td>\n",
       "      <td>1</td>\n",
       "      <td>INDIVIDUAL</td>\n",
       "      <td>0</td>\n",
       "      <td>NaN</td>\n",
       "      <td>0</td>\n",
       "      <td>NaN</td>\n",
       "      <td>NaN</td>\n",
       "    </tr>\n",
       "  </tbody>\n",
       "</table>\n",
       "<p>38577 rows × 56 columns</p>\n",
       "</div>"
      ],
      "text/plain": [
       "            id  member_id  loan_amnt  funded_amnt  funded_amnt_inv  \\\n",
       "0      1077501    1296599       5000         5000           4975.0   \n",
       "1      1077430    1314167       2500         2500           2500.0   \n",
       "2      1077175    1313524       2400         2400           2400.0   \n",
       "3      1076863    1277178      10000        10000          10000.0   \n",
       "5      1075269    1311441       5000         5000           5000.0   \n",
       "...        ...        ...        ...          ...              ...   \n",
       "39712    92187      92174       2500         2500           1075.0   \n",
       "39713    90665      90607       8500         8500            875.0   \n",
       "39714    90395      90390       5000         5000           1325.0   \n",
       "39715    90376      89243       5000         5000            650.0   \n",
       "39716    87023      86999       7500         7500            800.0   \n",
       "\n",
       "             term int_rate  installment grade sub_grade  ... last_pymnt_amnt  \\\n",
       "0       36 months   10.65%       162.87     B        B2  ...          171.62   \n",
       "1       60 months   15.27%        59.83     C        C4  ...          119.66   \n",
       "2       36 months   15.96%        84.33     C        C5  ...          649.91   \n",
       "3       36 months   13.49%       339.31     C        C1  ...          357.48   \n",
       "5       36 months    7.90%       156.46     A        A4  ...          161.03   \n",
       "...           ...      ...          ...   ...       ...  ...             ...   \n",
       "39712   36 months    8.07%        78.42     A        A4  ...           80.90   \n",
       "39713   36 months   10.28%       275.38     C        C1  ...          281.94   \n",
       "39714   36 months    8.07%       156.84     A        A4  ...            0.00   \n",
       "39715   36 months    7.43%       155.38     A        A2  ...            0.00   \n",
       "39716   36 months   13.75%       255.43     E        E2  ...          256.59   \n",
       "\n",
       "      last_credit_pull_d collections_12_mths_ex_med  policy_code  \\\n",
       "0                 May-16                        0.0            1   \n",
       "1                 Sep-13                        0.0            1   \n",
       "2                 May-16                        0.0            1   \n",
       "3                 Apr-16                        0.0            1   \n",
       "5                 Jan-16                        0.0            1   \n",
       "...                  ...                        ...          ...   \n",
       "39712             Jun-10                        NaN            1   \n",
       "39713             Jul-10                        NaN            1   \n",
       "39714             Jun-07                        NaN            1   \n",
       "39715             Jun-07                        NaN            1   \n",
       "39716             Jun-10                        NaN            1   \n",
       "\n",
       "      application_type acc_now_delinq chargeoff_within_12_mths delinq_amnt  \\\n",
       "0           INDIVIDUAL              0                      0.0           0   \n",
       "1           INDIVIDUAL              0                      0.0           0   \n",
       "2           INDIVIDUAL              0                      0.0           0   \n",
       "3           INDIVIDUAL              0                      0.0           0   \n",
       "5           INDIVIDUAL              0                      0.0           0   \n",
       "...                ...            ...                      ...         ...   \n",
       "39712       INDIVIDUAL              0                      NaN           0   \n",
       "39713       INDIVIDUAL              0                      NaN           0   \n",
       "39714       INDIVIDUAL              0                      NaN           0   \n",
       "39715       INDIVIDUAL              0                      NaN           0   \n",
       "39716       INDIVIDUAL              0                      NaN           0   \n",
       "\n",
       "      pub_rec_bankruptcies tax_liens  \n",
       "0                      0.0       0.0  \n",
       "1                      0.0       0.0  \n",
       "2                      0.0       0.0  \n",
       "3                      0.0       0.0  \n",
       "5                      0.0       0.0  \n",
       "...                    ...       ...  \n",
       "39712                  NaN       NaN  \n",
       "39713                  NaN       NaN  \n",
       "39714                  NaN       NaN  \n",
       "39715                  NaN       NaN  \n",
       "39716                  NaN       NaN  \n",
       "\n",
       "[38577 rows x 56 columns]"
      ]
     },
     "execution_count": 19,
     "metadata": {},
     "output_type": "execute_result"
    }
   ],
   "source": [
    "# Dropping all rows having all null values.\n",
    "loan_df = loan_df.dropna(axis=0, how=\"all\")\n",
    "loan_df"
   ]
  },
  {
   "cell_type": "markdown",
   "id": "66ba090b",
   "metadata": {
    "id": "383eb3a5"
   },
   "source": [
    "### Now we delete text/description columns as it wont help in analysis"
   ]
  },
  {
   "cell_type": "code",
   "execution_count": 25,
   "id": "a0d7532c",
   "metadata": {
    "id": "a0d7532c"
   },
   "outputs": [
    {
     "data": {
      "text/plain": [
       "(38577, 51)"
      ]
     },
     "execution_count": 25,
     "metadata": {},
     "output_type": "execute_result"
    }
   ],
   "source": [
    "loan_df.drop(columns=['desc','title'],inplace=True)\n",
    "loan_df.shape"
   ]
  },
  {
   "cell_type": "code",
   "execution_count": 26,
   "id": "6461fccc",
   "metadata": {
    "id": "6461fccc"
   },
   "outputs": [],
   "source": [
    "# We will limit ourselves to Group level only. \n",
    "loan_df = loan_df.drop(['sub_grade'],  axis=1)"
   ]
  },
  {
   "cell_type": "code",
   "execution_count": 28,
   "id": "35d2e58f",
   "metadata": {
    "id": "35d2e58f"
   },
   "outputs": [],
   "source": [
    "#All the below listed columns denote behavioural data and hence wont be available during the approval process hence dhould be discarded for our use case\n",
    "behavioural_columns=['earliest_cr_line', 'open_acc', 'delinq_2yrs', 'pub_rec', 'revol_util', 'total_acc', 'inq_last_6mths',\n",
    "                          'out_prncp', 'out_prncp_inv', 'total_pymnt','total_rec_prncp', 'collection_recovery_fee',\n",
    "                          'total_rec_int', 'revol_bal', 'last_pymnt_amnt','total_pymnt_inv', 'recoveries', \n",
    "                        'application_type','last_pymnt_d','last_credit_pull_d','total_rec_late_fee']\n",
    "\n",
    "loan_df=loan_df.drop(behavioural_columns,axis=1)"
   ]
  },
  {
   "cell_type": "code",
   "execution_count": 29,
   "id": "92ecb12e",
   "metadata": {
    "id": "92ecb12e"
   },
   "outputs": [
    {
     "data": {
      "text/plain": [
       "pymnt_plan                        1\n",
       "delinq_amnt                       1\n",
       "chargeoff_within_12_mths          1\n",
       "acc_now_delinq                    1\n",
       "policy_code                       1\n",
       "collections_12_mths_ex_med        1\n",
       "initial_list_status               1\n",
       "tax_liens                         1\n",
       "term                              2\n",
       "loan_status                       2\n",
       "verification_status               3\n",
       "pub_rec_bankruptcies              3\n",
       "home_ownership                    5\n",
       "grade                             7\n",
       "emp_length                       11\n",
       "purpose                          14\n",
       "addr_state                       50\n",
       "issue_d                          55\n",
       "mths_since_last_delinq           95\n",
       "mths_since_last_record          111\n",
       "int_rate                        370\n",
       "zip_code                        822\n",
       "loan_amnt                       870\n",
       "funded_amnt                    1019\n",
       "dti                            2853\n",
       "annual_inc                     5215\n",
       "funded_amnt_inv                8050\n",
       "installment                   15022\n",
       "emp_title                     28027\n",
       "dtype: int64"
      ]
     },
     "execution_count": 29,
     "metadata": {},
     "output_type": "execute_result"
    }
   ],
   "source": [
    "# Checking number of unique values in each column\n",
    "loan_df.nunique().sort_values()"
   ]
  },
  {
   "cell_type": "code",
   "execution_count": 30,
   "id": "3d9bdeb2",
   "metadata": {
    "id": "3d9bdeb2"
   },
   "outputs": [
    {
     "name": "stdout",
     "output_type": "stream",
     "text": [
      "pymnt_plan\n",
      "initial_list_status\n",
      "collections_12_mths_ex_med\n",
      "policy_code\n",
      "acc_now_delinq\n",
      "chargeoff_within_12_mths\n",
      "delinq_amnt\n",
      "tax_liens\n",
      "-------------\n"
     ]
    },
    {
     "data": {
      "text/plain": [
       "(38577, 21)"
      ]
     },
     "execution_count": 30,
     "metadata": {},
     "output_type": "execute_result"
    }
   ],
   "source": [
    "# We can delete all columns having only one unique value as it is of no use to us.\n",
    "for column in loan_df.columns:\n",
    "    if loan_df[column].nunique(dropna=True) == 1:\n",
    "        print(column)\n",
    "        loan_df = loan_df.drop(column, axis=1)\n",
    "print(\"-------------\")\n",
    "loan_df.shape"
   ]
  },
  {
   "cell_type": "code",
   "execution_count": 31,
   "id": "57aca429",
   "metadata": {
    "id": "57aca429"
   },
   "outputs": [
    {
     "name": "stdout",
     "output_type": "stream",
     "text": [
      "mths_since_last_delinq\n",
      "mths_since_last_record\n"
     ]
    },
    {
     "data": {
      "text/plain": [
       "(38577, 19)"
      ]
     },
     "execution_count": 31,
     "metadata": {},
     "output_type": "execute_result"
    }
   ],
   "source": [
    "#Dropping the columns with more than 50% of the values as null.\n",
    "total_rows = len(loan_df)\n",
    "for column in loan_df.columns:\n",
    "    if loan_df[column].isna().mean().round(2) >= 0.50:\n",
    "        print(column)\n",
    "        loan_df = loan_df.drop(column, axis=1)\n",
    "loan_df.shape"
   ]
  },
  {
   "cell_type": "markdown",
   "id": "7096ed50",
   "metadata": {
    "id": "5748f33e"
   },
   "source": [
    "##  2. Data Conversion"
   ]
  },
  {
   "cell_type": "code",
   "execution_count": 32,
   "id": "e74d7d64",
   "metadata": {
    "id": "e74d7d64"
   },
   "outputs": [
    {
     "data": {
      "text/plain": [
       "loan_amnt                 int64\n",
       "funded_amnt               int64\n",
       "funded_amnt_inv         float64\n",
       "term                     object\n",
       "int_rate                 object\n",
       "installment             float64\n",
       "grade                    object\n",
       "emp_title                object\n",
       "emp_length               object\n",
       "home_ownership           object\n",
       "annual_inc              float64\n",
       "verification_status      object\n",
       "issue_d                  object\n",
       "loan_status              object\n",
       "purpose                  object\n",
       "zip_code                 object\n",
       "addr_state               object\n",
       "dti                     float64\n",
       "pub_rec_bankruptcies    float64\n",
       "dtype: object"
      ]
     },
     "execution_count": 32,
     "metadata": {},
     "output_type": "execute_result"
    }
   ],
   "source": [
    "#Check typeof each column we may need to clean some data and change the type of column to make it meaningful\n",
    "loan_df.dtypes\n"
   ]
  },
  {
   "cell_type": "code",
   "execution_count": 33,
   "id": "9e14ac62",
   "metadata": {
    "id": "9e14ac62"
   },
   "outputs": [
    {
     "data": {
      "text/plain": [
       " 36 months    29096\n",
       " 60 months     9481\n",
       "Name: term, dtype: int64"
      ]
     },
     "execution_count": 33,
     "metadata": {},
     "output_type": "execute_result"
    }
   ],
   "source": [
    "#We see a lot of object fields we may need to clean them up\n",
    "loan_df['term'].value_counts()"
   ]
  },
  {
   "cell_type": "code",
   "execution_count": 34,
   "id": "4d0c186d",
   "metadata": {
    "id": "4d0c186d",
    "scrolled": true
   },
   "outputs": [
    {
     "data": {
      "text/plain": [
       "dtype('int64')"
      ]
     },
     "execution_count": 34,
     "metadata": {},
     "output_type": "execute_result"
    }
   ],
   "source": [
    "# Convert term from string to int.\n",
    "def stripe_term(term):\n",
    "    return int(term.strip().split()[0])\n",
    "\n",
    "loan_df['term'] = loan_df['term'].apply(stripe_term)\n",
    "loan_df['term'].dtype"
   ]
  },
  {
   "cell_type": "code",
   "execution_count": 35,
   "id": "9a7357df",
   "metadata": {
    "colab": {
     "base_uri": "https://localhost:8080/"
    },
    "id": "9a7357df",
    "outputId": "aadda7cd-5b6b-4a45-f5f4-4b0f2909fa5b"
   },
   "outputs": [
    {
     "data": {
      "text/plain": [
       "36    29096\n",
       "60     9481\n",
       "Name: term, dtype: int64"
      ]
     },
     "execution_count": 35,
     "metadata": {},
     "output_type": "execute_result"
    }
   ],
   "source": [
    "loan_df['term'].value_counts()"
   ]
  },
  {
   "cell_type": "code",
   "execution_count": 36,
   "id": "9f726433",
   "metadata": {
    "id": "9f726433"
   },
   "outputs": [
    {
     "data": {
      "text/plain": [
       "10.99%    913\n",
       "11.49%    790\n",
       "7.51%     787\n",
       "13.49%    749\n",
       "7.88%     725\n",
       "         ... \n",
       "16.96%      1\n",
       "18.36%      1\n",
       "16.15%      1\n",
       "16.01%      1\n",
       "16.20%      1\n",
       "Name: int_rate, Length: 370, dtype: int64"
      ]
     },
     "execution_count": 36,
     "metadata": {},
     "output_type": "execute_result"
    }
   ],
   "source": [
    "\n",
    "loan_df['int_rate'].value_counts()\n"
   ]
  },
  {
   "cell_type": "code",
   "execution_count": 37,
   "id": "5c8566bd",
   "metadata": {
    "id": "5c8566bd"
   },
   "outputs": [],
   "source": [
    "# Convert int_rate from string to float.\n",
    "loan_df['int_rate']=loan_df['int_rate'].str.strip('%').astype(float)\n"
   ]
  },
  {
   "cell_type": "code",
   "execution_count": 38,
   "id": "92e093d0",
   "metadata": {
    "id": "92e093d0"
   },
   "outputs": [
    {
     "data": {
      "text/plain": [
       "10.99    913\n",
       "11.49    790\n",
       "7.51     787\n",
       "13.49    749\n",
       "7.88     725\n",
       "        ... \n",
       "16.96      1\n",
       "18.36      1\n",
       "16.15      1\n",
       "16.01      1\n",
       "16.20      1\n",
       "Name: int_rate, Length: 370, dtype: int64"
      ]
     },
     "execution_count": 38,
     "metadata": {},
     "output_type": "execute_result"
    }
   ],
   "source": [
    "loan_df['int_rate'].value_counts()"
   ]
  },
  {
   "cell_type": "code",
   "execution_count": 39,
   "id": "07f538ed",
   "metadata": {
    "id": "07f538ed"
   },
   "outputs": [
    {
     "data": {
      "text/html": [
       "<div>\n",
       "<style scoped>\n",
       "    .dataframe tbody tr th:only-of-type {\n",
       "        vertical-align: middle;\n",
       "    }\n",
       "\n",
       "    .dataframe tbody tr th {\n",
       "        vertical-align: top;\n",
       "    }\n",
       "\n",
       "    .dataframe thead th {\n",
       "        text-align: right;\n",
       "    }\n",
       "</style>\n",
       "<table border=\"1\" class=\"dataframe\">\n",
       "  <thead>\n",
       "    <tr style=\"text-align: right;\">\n",
       "      <th></th>\n",
       "      <th>loan_amnt</th>\n",
       "      <th>funded_amnt</th>\n",
       "      <th>funded_amnt_inv</th>\n",
       "      <th>term</th>\n",
       "      <th>int_rate</th>\n",
       "      <th>installment</th>\n",
       "      <th>grade</th>\n",
       "      <th>emp_title</th>\n",
       "      <th>emp_length</th>\n",
       "      <th>home_ownership</th>\n",
       "      <th>annual_inc</th>\n",
       "      <th>verification_status</th>\n",
       "      <th>issue_d</th>\n",
       "      <th>loan_status</th>\n",
       "      <th>purpose</th>\n",
       "      <th>zip_code</th>\n",
       "      <th>addr_state</th>\n",
       "      <th>dti</th>\n",
       "      <th>pub_rec_bankruptcies</th>\n",
       "    </tr>\n",
       "  </thead>\n",
       "  <tbody>\n",
       "    <tr>\n",
       "      <th>0</th>\n",
       "      <td>5000.0</td>\n",
       "      <td>5000.0</td>\n",
       "      <td>4975.0</td>\n",
       "      <td>36</td>\n",
       "      <td>10.65</td>\n",
       "      <td>162.87</td>\n",
       "      <td>B</td>\n",
       "      <td>NaN</td>\n",
       "      <td>10+ years</td>\n",
       "      <td>RENT</td>\n",
       "      <td>24000.0</td>\n",
       "      <td>Verified</td>\n",
       "      <td>Dec-11</td>\n",
       "      <td>Fully Paid</td>\n",
       "      <td>credit_card</td>\n",
       "      <td>860xx</td>\n",
       "      <td>AZ</td>\n",
       "      <td>27.65</td>\n",
       "      <td>0.0</td>\n",
       "    </tr>\n",
       "    <tr>\n",
       "      <th>1</th>\n",
       "      <td>2500.0</td>\n",
       "      <td>2500.0</td>\n",
       "      <td>2500.0</td>\n",
       "      <td>60</td>\n",
       "      <td>15.27</td>\n",
       "      <td>59.83</td>\n",
       "      <td>C</td>\n",
       "      <td>Ryder</td>\n",
       "      <td>&lt; 1 year</td>\n",
       "      <td>RENT</td>\n",
       "      <td>30000.0</td>\n",
       "      <td>Source Verified</td>\n",
       "      <td>Dec-11</td>\n",
       "      <td>Charged Off</td>\n",
       "      <td>car</td>\n",
       "      <td>309xx</td>\n",
       "      <td>GA</td>\n",
       "      <td>1.00</td>\n",
       "      <td>0.0</td>\n",
       "    </tr>\n",
       "    <tr>\n",
       "      <th>2</th>\n",
       "      <td>2400.0</td>\n",
       "      <td>2400.0</td>\n",
       "      <td>2400.0</td>\n",
       "      <td>36</td>\n",
       "      <td>15.96</td>\n",
       "      <td>84.33</td>\n",
       "      <td>C</td>\n",
       "      <td>NaN</td>\n",
       "      <td>10+ years</td>\n",
       "      <td>RENT</td>\n",
       "      <td>12252.0</td>\n",
       "      <td>Not Verified</td>\n",
       "      <td>Dec-11</td>\n",
       "      <td>Fully Paid</td>\n",
       "      <td>small_business</td>\n",
       "      <td>606xx</td>\n",
       "      <td>IL</td>\n",
       "      <td>8.72</td>\n",
       "      <td>0.0</td>\n",
       "    </tr>\n",
       "    <tr>\n",
       "      <th>3</th>\n",
       "      <td>10000.0</td>\n",
       "      <td>10000.0</td>\n",
       "      <td>10000.0</td>\n",
       "      <td>36</td>\n",
       "      <td>13.49</td>\n",
       "      <td>339.31</td>\n",
       "      <td>C</td>\n",
       "      <td>AIR RESOURCES BOARD</td>\n",
       "      <td>10+ years</td>\n",
       "      <td>RENT</td>\n",
       "      <td>49200.0</td>\n",
       "      <td>Source Verified</td>\n",
       "      <td>Dec-11</td>\n",
       "      <td>Fully Paid</td>\n",
       "      <td>other</td>\n",
       "      <td>917xx</td>\n",
       "      <td>CA</td>\n",
       "      <td>20.00</td>\n",
       "      <td>0.0</td>\n",
       "    </tr>\n",
       "    <tr>\n",
       "      <th>5</th>\n",
       "      <td>5000.0</td>\n",
       "      <td>5000.0</td>\n",
       "      <td>5000.0</td>\n",
       "      <td>36</td>\n",
       "      <td>7.90</td>\n",
       "      <td>156.46</td>\n",
       "      <td>A</td>\n",
       "      <td>Veolia Transportaton</td>\n",
       "      <td>3 years</td>\n",
       "      <td>RENT</td>\n",
       "      <td>36000.0</td>\n",
       "      <td>Source Verified</td>\n",
       "      <td>Dec-11</td>\n",
       "      <td>Fully Paid</td>\n",
       "      <td>wedding</td>\n",
       "      <td>852xx</td>\n",
       "      <td>AZ</td>\n",
       "      <td>11.20</td>\n",
       "      <td>0.0</td>\n",
       "    </tr>\n",
       "    <tr>\n",
       "      <th>...</th>\n",
       "      <td>...</td>\n",
       "      <td>...</td>\n",
       "      <td>...</td>\n",
       "      <td>...</td>\n",
       "      <td>...</td>\n",
       "      <td>...</td>\n",
       "      <td>...</td>\n",
       "      <td>...</td>\n",
       "      <td>...</td>\n",
       "      <td>...</td>\n",
       "      <td>...</td>\n",
       "      <td>...</td>\n",
       "      <td>...</td>\n",
       "      <td>...</td>\n",
       "      <td>...</td>\n",
       "      <td>...</td>\n",
       "      <td>...</td>\n",
       "      <td>...</td>\n",
       "      <td>...</td>\n",
       "    </tr>\n",
       "    <tr>\n",
       "      <th>39712</th>\n",
       "      <td>2500.0</td>\n",
       "      <td>2500.0</td>\n",
       "      <td>1075.0</td>\n",
       "      <td>36</td>\n",
       "      <td>8.07</td>\n",
       "      <td>78.42</td>\n",
       "      <td>A</td>\n",
       "      <td>FiSite Research</td>\n",
       "      <td>4 years</td>\n",
       "      <td>MORTGAGE</td>\n",
       "      <td>110000.0</td>\n",
       "      <td>Not Verified</td>\n",
       "      <td>Jul-07</td>\n",
       "      <td>Fully Paid</td>\n",
       "      <td>home_improvement</td>\n",
       "      <td>802xx</td>\n",
       "      <td>CO</td>\n",
       "      <td>11.33</td>\n",
       "      <td>NaN</td>\n",
       "    </tr>\n",
       "    <tr>\n",
       "      <th>39713</th>\n",
       "      <td>8500.0</td>\n",
       "      <td>8500.0</td>\n",
       "      <td>875.0</td>\n",
       "      <td>36</td>\n",
       "      <td>10.28</td>\n",
       "      <td>275.38</td>\n",
       "      <td>C</td>\n",
       "      <td>Squarewave Solutions, Ltd.</td>\n",
       "      <td>3 years</td>\n",
       "      <td>RENT</td>\n",
       "      <td>18000.0</td>\n",
       "      <td>Not Verified</td>\n",
       "      <td>Jul-07</td>\n",
       "      <td>Fully Paid</td>\n",
       "      <td>credit_card</td>\n",
       "      <td>274xx</td>\n",
       "      <td>NC</td>\n",
       "      <td>6.40</td>\n",
       "      <td>NaN</td>\n",
       "    </tr>\n",
       "    <tr>\n",
       "      <th>39714</th>\n",
       "      <td>5000.0</td>\n",
       "      <td>5000.0</td>\n",
       "      <td>1325.0</td>\n",
       "      <td>36</td>\n",
       "      <td>8.07</td>\n",
       "      <td>156.84</td>\n",
       "      <td>A</td>\n",
       "      <td>NaN</td>\n",
       "      <td>&lt; 1 year</td>\n",
       "      <td>MORTGAGE</td>\n",
       "      <td>100000.0</td>\n",
       "      <td>Not Verified</td>\n",
       "      <td>Jul-07</td>\n",
       "      <td>Fully Paid</td>\n",
       "      <td>debt_consolidation</td>\n",
       "      <td>017xx</td>\n",
       "      <td>MA</td>\n",
       "      <td>2.30</td>\n",
       "      <td>NaN</td>\n",
       "    </tr>\n",
       "    <tr>\n",
       "      <th>39715</th>\n",
       "      <td>5000.0</td>\n",
       "      <td>5000.0</td>\n",
       "      <td>650.0</td>\n",
       "      <td>36</td>\n",
       "      <td>7.43</td>\n",
       "      <td>155.38</td>\n",
       "      <td>A</td>\n",
       "      <td>NaN</td>\n",
       "      <td>&lt; 1 year</td>\n",
       "      <td>MORTGAGE</td>\n",
       "      <td>200000.0</td>\n",
       "      <td>Not Verified</td>\n",
       "      <td>Jul-07</td>\n",
       "      <td>Fully Paid</td>\n",
       "      <td>other</td>\n",
       "      <td>208xx</td>\n",
       "      <td>MD</td>\n",
       "      <td>3.72</td>\n",
       "      <td>NaN</td>\n",
       "    </tr>\n",
       "    <tr>\n",
       "      <th>39716</th>\n",
       "      <td>7500.0</td>\n",
       "      <td>7500.0</td>\n",
       "      <td>800.0</td>\n",
       "      <td>36</td>\n",
       "      <td>13.75</td>\n",
       "      <td>255.43</td>\n",
       "      <td>E</td>\n",
       "      <td>Evergreen Center</td>\n",
       "      <td>&lt; 1 year</td>\n",
       "      <td>OWN</td>\n",
       "      <td>22000.0</td>\n",
       "      <td>Not Verified</td>\n",
       "      <td>Jun-07</td>\n",
       "      <td>Fully Paid</td>\n",
       "      <td>debt_consolidation</td>\n",
       "      <td>027xx</td>\n",
       "      <td>MA</td>\n",
       "      <td>14.29</td>\n",
       "      <td>NaN</td>\n",
       "    </tr>\n",
       "  </tbody>\n",
       "</table>\n",
       "<p>38577 rows × 19 columns</p>\n",
       "</div>"
      ],
      "text/plain": [
       "       loan_amnt  funded_amnt  funded_amnt_inv  term  int_rate  installment  \\\n",
       "0         5000.0       5000.0           4975.0    36     10.65       162.87   \n",
       "1         2500.0       2500.0           2500.0    60     15.27        59.83   \n",
       "2         2400.0       2400.0           2400.0    36     15.96        84.33   \n",
       "3        10000.0      10000.0          10000.0    36     13.49       339.31   \n",
       "5         5000.0       5000.0           5000.0    36      7.90       156.46   \n",
       "...          ...          ...              ...   ...       ...          ...   \n",
       "39712     2500.0       2500.0           1075.0    36      8.07        78.42   \n",
       "39713     8500.0       8500.0            875.0    36     10.28       275.38   \n",
       "39714     5000.0       5000.0           1325.0    36      8.07       156.84   \n",
       "39715     5000.0       5000.0            650.0    36      7.43       155.38   \n",
       "39716     7500.0       7500.0            800.0    36     13.75       255.43   \n",
       "\n",
       "      grade                   emp_title emp_length home_ownership  annual_inc  \\\n",
       "0         B                         NaN  10+ years           RENT     24000.0   \n",
       "1         C                       Ryder   < 1 year           RENT     30000.0   \n",
       "2         C                         NaN  10+ years           RENT     12252.0   \n",
       "3         C         AIR RESOURCES BOARD  10+ years           RENT     49200.0   \n",
       "5         A        Veolia Transportaton    3 years           RENT     36000.0   \n",
       "...     ...                         ...        ...            ...         ...   \n",
       "39712     A             FiSite Research    4 years       MORTGAGE    110000.0   \n",
       "39713     C  Squarewave Solutions, Ltd.    3 years           RENT     18000.0   \n",
       "39714     A                         NaN   < 1 year       MORTGAGE    100000.0   \n",
       "39715     A                         NaN   < 1 year       MORTGAGE    200000.0   \n",
       "39716     E            Evergreen Center   < 1 year            OWN     22000.0   \n",
       "\n",
       "      verification_status issue_d  loan_status             purpose zip_code  \\\n",
       "0                Verified  Dec-11   Fully Paid         credit_card    860xx   \n",
       "1         Source Verified  Dec-11  Charged Off                 car    309xx   \n",
       "2            Not Verified  Dec-11   Fully Paid      small_business    606xx   \n",
       "3         Source Verified  Dec-11   Fully Paid               other    917xx   \n",
       "5         Source Verified  Dec-11   Fully Paid             wedding    852xx   \n",
       "...                   ...     ...          ...                 ...      ...   \n",
       "39712        Not Verified  Jul-07   Fully Paid    home_improvement    802xx   \n",
       "39713        Not Verified  Jul-07   Fully Paid         credit_card    274xx   \n",
       "39714        Not Verified  Jul-07   Fully Paid  debt_consolidation    017xx   \n",
       "39715        Not Verified  Jul-07   Fully Paid               other    208xx   \n",
       "39716        Not Verified  Jun-07   Fully Paid  debt_consolidation    027xx   \n",
       "\n",
       "      addr_state    dti  pub_rec_bankruptcies  \n",
       "0             AZ  27.65                   0.0  \n",
       "1             GA   1.00                   0.0  \n",
       "2             IL   8.72                   0.0  \n",
       "3             CA  20.00                   0.0  \n",
       "5             AZ  11.20                   0.0  \n",
       "...          ...    ...                   ...  \n",
       "39712         CO  11.33                   NaN  \n",
       "39713         NC   6.40                   NaN  \n",
       "39714         MA   2.30                   NaN  \n",
       "39715         MD   3.72                   NaN  \n",
       "39716         MA  14.29                   NaN  \n",
       "\n",
       "[38577 rows x 19 columns]"
      ]
     },
     "execution_count": 39,
     "metadata": {},
     "output_type": "execute_result"
    }
   ],
   "source": [
    "# loan_funded_amnt and funded_amnt should be flot64\n",
    "loan_df = loan_df.astype({'loan_amnt':'float','funded_amnt':'float'})\n",
    "loan_df"
   ]
  },
  {
   "cell_type": "code",
   "execution_count": 41,
   "id": "943c2df5",
   "metadata": {
    "id": "943c2df5"
   },
   "outputs": [
    {
     "name": "stdout",
     "output_type": "stream",
     "text": [
      "0         5000.0\n",
      "1         2500.0\n",
      "2         2400.0\n",
      "3        10000.0\n",
      "5         5000.0\n",
      "          ...   \n",
      "39712     2500.0\n",
      "39713     8500.0\n",
      "39714     5000.0\n",
      "39715     5000.0\n",
      "39716     7500.0\n",
      "Name: loan_amnt, Length: 38577, dtype: float64\n",
      "0         5000.0\n",
      "1         2500.0\n",
      "2         2400.0\n",
      "3        10000.0\n",
      "5         5000.0\n",
      "          ...   \n",
      "39712     2500.0\n",
      "39713     8500.0\n",
      "39714     5000.0\n",
      "39715     5000.0\n",
      "39716     7500.0\n",
      "Name: funded_amnt, Length: 38577, dtype: float64\n",
      "0         4975.0\n",
      "1         2500.0\n",
      "2         2400.0\n",
      "3        10000.0\n",
      "5         5000.0\n",
      "          ...   \n",
      "39712     1075.0\n",
      "39713      875.0\n",
      "39714     1325.0\n",
      "39715      650.0\n",
      "39716      800.0\n",
      "Name: funded_amnt_inv, Length: 38577, dtype: float64\n",
      "0        10.65\n",
      "1        15.27\n",
      "2        15.96\n",
      "3        13.49\n",
      "5         7.90\n",
      "         ...  \n",
      "39712     8.07\n",
      "39713    10.28\n",
      "39714     8.07\n",
      "39715     7.43\n",
      "39716    13.75\n",
      "Name: int_rate, Length: 38577, dtype: float64\n",
      "0        27.65\n",
      "1         1.00\n",
      "2         8.72\n",
      "3        20.00\n",
      "5        11.20\n",
      "         ...  \n",
      "39712    11.33\n",
      "39713     6.40\n",
      "39714     2.30\n",
      "39715     3.72\n",
      "39716    14.29\n",
      "Name: dti, Length: 38577, dtype: float64\n"
     ]
    }
   ],
   "source": [
    "# Rounding off the following columns to two decimals points.\n",
    "for col in ['loan_amnt', 'funded_amnt', 'funded_amnt_inv', 'int_rate', 'dti']:\n",
    "    loan_df[col] = loan_df[col].apply(lambda x: round(x,2))\n",
    "    print(loan_df[col])\n"
   ]
  },
  {
   "cell_type": "code",
   "execution_count": 42,
   "id": "4cdb2dc3",
   "metadata": {
    "id": "4cdb2dc3"
   },
   "outputs": [
    {
     "data": {
      "text/plain": [
       "0       2011-12-01\n",
       "1       2011-12-01\n",
       "2       2011-12-01\n",
       "3       2011-12-01\n",
       "5       2011-12-01\n",
       "           ...    \n",
       "39712   2007-07-01\n",
       "39713   2007-07-01\n",
       "39714   2007-07-01\n",
       "39715   2007-07-01\n",
       "39716   2007-06-01\n",
       "Name: issue_d, Length: 38577, dtype: datetime64[ns]"
      ]
     },
     "execution_count": 42,
     "metadata": {},
     "output_type": "execute_result"
    }
   ],
   "source": [
    "#converting issue_d to date datatype\n",
    "loan_df['issue_d'] = pd.to_datetime(loan_df.issue_d, format='%b-%y')\n",
    "loan_df['issue_d']"
   ]
  },
  {
   "cell_type": "markdown",
   "id": "5cd98075",
   "metadata": {
    "id": "f43c7ec1"
   },
   "source": [
    "## 3. Imputating the rows.\n"
   ]
  },
  {
   "cell_type": "code",
   "execution_count": 44,
   "id": "e358d92c",
   "metadata": {
    "id": "24e540f2"
   },
   "outputs": [
    {
     "data": {
      "text/plain": [
       "loan_amnt               0.000000\n",
       "funded_amnt             0.000000\n",
       "funded_amnt_inv         0.000000\n",
       "term                    0.000000\n",
       "int_rate                0.000000\n",
       "installment             0.000000\n",
       "grade                   0.000000\n",
       "emp_title               6.185033\n",
       "emp_length              2.677761\n",
       "home_ownership          0.000000\n",
       "annual_inc              0.000000\n",
       "verification_status     0.000000\n",
       "issue_d                 0.000000\n",
       "loan_status             0.000000\n",
       "purpose                 0.000000\n",
       "zip_code                0.000000\n",
       "addr_state              0.000000\n",
       "dti                     0.000000\n",
       "pub_rec_bankruptcies    1.806776\n",
       "dtype: float64"
      ]
     },
     "execution_count": 44,
     "metadata": {},
     "output_type": "execute_result"
    }
   ],
   "source": [
    "#Checking number of null values in various columns\n",
    "(loan_df.isnull().sum()*100)/len(loan_df)"
   ]
  },
  {
   "cell_type": "code",
   "execution_count": 47,
   "id": "bbe97e81",
   "metadata": {
    "id": "bbe97e81"
   },
   "outputs": [],
   "source": [
    "# Drop null rows for column emp_length and pub_rec_bankruptcies as number of null rows are too few.\n",
    "loan_df= loan_df[loan_df['emp_length'].notna()]\n",
    "loan_df= loan_df[loan_df['pub_rec_bankruptcies'].notna()]"
   ]
  },
  {
   "cell_type": "code",
   "execution_count": 50,
   "id": "51daede5",
   "metadata": {
    "id": "51daede5"
   },
   "outputs": [
    {
     "data": {
      "text/plain": [
       "loan_amnt               0.0\n",
       "funded_amnt             0.0\n",
       "funded_amnt_inv         0.0\n",
       "term                    0.0\n",
       "int_rate                0.0\n",
       "installment             0.0\n",
       "grade                   0.0\n",
       "emp_length              0.0\n",
       "home_ownership          0.0\n",
       "annual_inc              0.0\n",
       "verification_status     0.0\n",
       "issue_d                 0.0\n",
       "loan_status             0.0\n",
       "purpose                 0.0\n",
       "zip_code                0.0\n",
       "addr_state              0.0\n",
       "dti                     0.0\n",
       "pub_rec_bankruptcies    0.0\n",
       "dtype: float64"
      ]
     },
     "execution_count": 50,
     "metadata": {},
     "output_type": "execute_result"
    }
   ],
   "source": [
    "(loan_df.isnull().sum()*100)/len(loan_df)"
   ]
  },
  {
   "cell_type": "code",
   "execution_count": 49,
   "id": "19fbc6f4",
   "metadata": {},
   "outputs": [],
   "source": [
    "# Since Employee title should also not play a role in deciding the loan eligiblity we can drop it\n",
    "loan_df=loan_df.drop(['emp_title'], axis=1)"
   ]
  },
  {
   "cell_type": "code",
   "execution_count": 51,
   "id": "1KhxWRvCyjeI",
   "metadata": {
    "id": "1KhxWRvCyjeI"
   },
   "outputs": [],
   "source": [
    "# Strip employment length to have only numeric values\n",
    "def clean_emp_length(x):\n",
    "  x=x.strip(\"years\") # No need of years suffix\n",
    "  x=x.strip(\"<\") # No need of <> sign in employment length\n",
    "  x=x.replace(\" \", \"\") # Removing spaces\n",
    "  x=x.replace(\"+\", \"\") # Removing + \n",
    "  return x\n",
    "\n",
    "loan_df['emp_length']=loan_df['emp_length'].apply(lambda x : clean_emp_length(x) )"
   ]
  },
  {
   "cell_type": "code",
   "execution_count": 52,
   "id": "pGRXQY05zbLW",
   "metadata": {
    "colab": {
     "base_uri": "https://localhost:8080/"
    },
    "id": "pGRXQY05zbLW",
    "outputId": "48f8215c-c47c-4bb9-f4aa-98381cdc6645"
   },
   "outputs": [
    {
     "name": "stdout",
     "output_type": "stream",
     "text": [
      "0        10\n",
      "1         1\n",
      "2        10\n",
      "3        10\n",
      "5         3\n",
      "         ..\n",
      "39562     1\n",
      "39573     3\n",
      "39623     8\n",
      "39666     2\n",
      "39680     2\n",
      "Name: emp_length, Length: 36847, dtype: object\n"
     ]
    }
   ],
   "source": [
    "print(loan_df['emp_length'])"
   ]
  },
  {
   "cell_type": "markdown",
   "id": "d6ab80a8",
   "metadata": {
    "id": "d6ab80a8"
   },
   "source": [
    "## 4. Derived Columns"
   ]
  },
  {
   "cell_type": "code",
   "execution_count": 53,
   "id": "32c594f5",
   "metadata": {
    "id": "32c594f5"
   },
   "outputs": [],
   "source": [
    "# Deriving columns by breaking issues date into month and year\n",
    "loan_df['issue_year']=pd.DatetimeIndex(loan_df['issue_d']).year\n",
    "loan_df['issue_month']=pd.DatetimeIndex(loan_df['issue_d']).month"
   ]
  },
  {
   "cell_type": "code",
   "execution_count": 54,
   "id": "e77e11b7",
   "metadata": {
    "id": "e77e11b7"
   },
   "outputs": [
    {
     "name": "stdout",
     "output_type": "stream",
     "text": [
      "count    36847.000000\n",
      "mean     11141.327652\n",
      "std       7369.988994\n",
      "min        500.000000\n",
      "25%       5500.000000\n",
      "50%      10000.000000\n",
      "75%      15000.000000\n",
      "max      35000.000000\n",
      "Name: loan_amnt, dtype: float64\n"
     ]
    },
    {
     "data": {
      "text/plain": [
       "<AxesSubplot:>"
      ]
     },
     "execution_count": 54,
     "metadata": {},
     "output_type": "execute_result"
    },
    {
     "data": {
      "image/png": "[encoded data removed]",
      "text/plain": [
       "<Figure size 432x288 with 1 Axes>"
      ]
     },
     "metadata": {
      "needs_background": "light"
     },
     "output_type": "display_data"
    }
   ],
   "source": [
    "print(loan_df[\"loan_amnt\"].describe())\n",
    "loan_df['loan_amnt'].plot(kind='box')"
   ]
  },
  {
   "cell_type": "markdown",
   "id": "6U3au6swtxkQ",
   "metadata": {
    "id": "6U3au6swtxkQ"
   },
   "source": [
    "## 5. Univariate Analysis"
   ]
  },
  {
   "cell_type": "code",
   "execution_count": 57,
   "id": "DsOB5q9AvMYB",
   "metadata": {
    "id": "DsOB5q9AvMYB"
   },
   "outputs": [],
   "source": [
    "# Column metadata Dict \n",
    "column_titles = {\n",
    "    'issue_y': 'Issue Year',\n",
    "    'loan_amnt': 'Loan Amount',\n",
    "    'funded_amnt': 'Funded Amount',\n",
    "    'emp_length': 'Employment Length',\n",
    "    'home_ownership': 'Home Owner Status',\n",
    "    'funded_amnt_inv': 'Funded Amount Investors',\n",
    "    'term': 'Loan Term',\n",
    "    'int_rate': 'Interest Rate',\n",
    "    'installment': 'Installment',\n",
    "    'grade': 'Grade',\n",
    "    'annual_inc': 'Annuap Income',\n",
    "    'funded_amnt_inv_b': 'Investor Funded Bins',\n",
    "    'pub_rec_bankruptcies': 'Bankruptcies Record',\n",
    "    'verification_status': 'Verification Status',\n",
    "    'issue_d': 'Issue Date',\n",
    "    'loan_status': 'Loan Status',\n",
    "    'purpose': 'Purpose of Loan',\n",
    "    'addr_state': 'State',\n",
    "    'dti': 'Debt To Income Ratio',\n",
    "    'issue_m': 'Issue Month',\n",
    "    'issue_q': 'Issue Quarter',\n",
    "    'dti_b': 'DTI Bins',\n",
    "    'loan_amnt_b': 'Loan Amount Bins',\n",
    "    'funded_amnt_b': 'Funded Amount Bins',\n",
    "    'annual_inc_b': 'Annual Income Bins',\n",
    "    'int_rate_b': 'Interest Rate Bins',\n",
    "}"
   ]
  },
  {
   "cell_type": "code",
   "execution_count": 60,
   "id": "ir4BVfneaQi4",
   "metadata": {
    "id": "ir4BVfneaQi4"
   },
   "outputs": [],
   "source": [
    "# Bucketting Loan Amount as it is easy to analyse categorical data\n",
    "def bucket_loan_amnt(column):\n",
    "    if column <= 5000:\n",
    "        return '0 - 5K'  # 25% quartile\n",
    "    elif (column >5000) and (column <= 10000):\n",
    "        return '5K - 10K'\n",
    "    elif (column >10000) and (column <= 15000):\n",
    "        return '10K - 15K'\n",
    "    else:\n",
    "        return '15K - above' # 75% quartile\n",
    "\n",
    "loan_df['loan_amnt_bucket'] = loan_df.apply(lambda x : bucket_loan_amnt(x['loan_amnt']), axis = 1)"
   ]
  },
  {
   "cell_type": "code",
   "execution_count": 61,
   "id": "ea583adb",
   "metadata": {
    "id": "Ncn02CyBvzd1"
   },
   "outputs": [],
   "source": [
    "# Bucketing dti\n",
    "def bucket_dti(column):\n",
    "    if column <= 8:\n",
    "        return 'Very Low' # 25% quartile\n",
    "    elif (column >8) and (column <= 12):\n",
    "        return 'Low'\n",
    "    elif (column >12) and (column <= 16):\n",
    "        return 'Moderate'\n",
    "    elif (column >16) and (column <= 20):\n",
    "        return 'High'\n",
    "    else:\n",
    "        return 'Very High' # 75% quartile\n",
    "\n",
    "loan_df['dti_bucket'] = loan_df.apply(lambda x : bucket_dti(x.dti), axis = 1)"
   ]
  },
  {
   "cell_type": "code",
   "execution_count": 62,
   "id": "f5561d23",
   "metadata": {
    "id": "ACT7KNhkDcl1"
   },
   "outputs": [],
   "source": [
    "#Bucketing Annual Income\n",
    "def bucket_annual_inc(column):\n",
    "    if column <= 40000:\n",
    "        return '0 - 40k' # 25% quartile\n",
    "    elif (column >40000) and (column <= 50000):\n",
    "        return '40k - 50k'\n",
    "    elif (column >50000) and (column <= 60000):\n",
    "        return '50k to 60k'\n",
    "    elif (column >60000) and (column <= 70000):\n",
    "        return '60k to 70k'\n",
    "    elif (column >70000) and (column <= 80000):\n",
    "        return '70k to 80k'\n",
    "    else:\n",
    "        return '80k - above' # 75% quartile\n",
    "\n",
    "loan_df['annual_inc_bucket'] = loan_df.apply(lambda x: bucket_annual_inc(x['annual_inc']), axis = 1)"
   ]
  },
  {
   "cell_type": "code",
   "execution_count": 63,
   "id": "zYIVLVceIQU7",
   "metadata": {
    "id": "zYIVLVceIQU7"
   },
   "outputs": [],
   "source": [
    "# Bucketing interest rate\n",
    "def bucket_int_rate(column):\n",
    "    if column <= 9:\n",
    "        return 'Very Low' # 25% quartile\n",
    "    elif (column >9) and (column <= 11):\n",
    "        return 'Low'\n",
    "    elif (column >11) and (column <= 13):\n",
    "        return 'Moderate'\n",
    "    elif (column >13) and (column <= 15):\n",
    "        return 'High'\n",
    "    else:\n",
    "        return 'Very High' # 75% quartile\n",
    "\n",
    "loan_df['int_rate_bucket'] = loan_df.apply(lambda x : bucket_int_rate(x.int_rate), axis = 1)"
   ]
  },
  {
   "cell_type": "code",
   "execution_count": 65,
   "id": "U4TEph3pzMTM",
   "metadata": {
    "id": "U4TEph3pzMTM"
   },
   "outputs": [
    {
     "data": {
      "image/png": "[encoded data removed]",
      "text/plain": [
       "<Figure size 432x288 with 1 Axes>"
      ]
     },
     "metadata": {
      "needs_background": "light"
     },
     "output_type": "display_data"
    }
   ],
   "source": [
    "plot.boxplot(loan_df['loan_amnt'],)\n",
    "plot.show()\n"
   ]
  },
  {
   "cell_type": "code",
   "execution_count": 66,
   "id": "1e41854d",
   "metadata": {
    "id": "1e41854d"
   },
   "outputs": [
    {
     "data": {
      "image/png": "[encoded data removed]",
      "text/plain": [
       "<Figure size 432x288 with 1 Axes>"
      ]
     },
     "metadata": {
      "needs_background": "light"
     },
     "output_type": "display_data"
    }
   ],
   "source": [
    "plot.boxplot(loan_df['funded_amnt'])\n",
    "plot.show()"
   ]
  },
  {
   "cell_type": "code",
   "execution_count": 67,
   "id": "90b771d3",
   "metadata": {
    "id": "90b771d3"
   },
   "outputs": [
    {
     "data": {
      "image/png": "[encoded data removed]",
      "text/plain": [
       "<Figure size 432x288 with 1 Axes>"
      ]
     },
     "metadata": {
      "needs_background": "light"
     },
     "output_type": "display_data"
    }
   ],
   "source": [
    "plot.boxplot(loan_df['funded_amnt_inv'])\n",
    "plot.show()"
   ]
  },
  {
   "cell_type": "code",
   "execution_count": 68,
   "id": "dac4aa25",
   "metadata": {
    "id": "dac4aa25"
   },
   "outputs": [
    {
     "data": {
      "image/png": "[encoded data removed]",
      "text/plain": [
       "<Figure size 432x288 with 1 Axes>"
      ]
     },
     "metadata": {
      "needs_background": "light"
     },
     "output_type": "display_data"
    }
   ],
   "source": [
    "plot.boxplot(loan_df['annual_inc'])\n",
    "plot.show()"
   ]
  },
  {
   "cell_type": "code",
   "execution_count": 69,
   "id": "f6124911",
   "metadata": {
    "id": "f6124911"
   },
   "outputs": [
    {
     "data": {
      "image/png": "[encoded data removed]",
      "text/plain": [
       "<Figure size 432x288 with 1 Axes>"
      ]
     },
     "metadata": {
      "needs_background": "light"
     },
     "output_type": "display_data"
    }
   ],
   "source": [
    "plot.boxplot(loan_df['int_rate'])\n",
    "plot.show()"
   ]
  },
  {
   "cell_type": "code",
   "execution_count": 70,
   "id": "6b739388",
   "metadata": {
    "id": "6b739388"
   },
   "outputs": [
    {
     "data": {
      "image/png": "[encoded data removed]",
      "text/plain": [
       "<Figure size 432x288 with 1 Axes>"
      ]
     },
     "metadata": {
      "needs_background": "light"
     },
     "output_type": "display_data"
    }
   ],
   "source": [
    "plot.boxplot(loan_df['dti'])\n",
    "plot.show()"
   ]
  },
  {
   "cell_type": "code",
   "execution_count": 71,
   "id": "3901a7e5",
   "metadata": {
    "id": "3901a7e5"
   },
   "outputs": [
    {
     "data": {
      "image/png": "[encoded data removed]",
      "text/plain": [
       "<Figure size 432x288 with 1 Axes>"
      ]
     },
     "metadata": {
      "needs_background": "light"
     },
     "output_type": "display_data"
    }
   ],
   "source": [
    "plot.boxplot(loan_df['installment'])\n",
    "plot.show()"
   ]
  },
  {
   "cell_type": "code",
   "execution_count": 74,
   "id": "21611a21",
   "metadata": {
    "id": "21611a21"
   },
   "outputs": [],
   "source": [
    "# From above box plts we see outliers for columns'loan_amnt', 'funded_amnt', 'funded_amnt_inv', 'int_rate', 'installment', 'annual_inc'.\n",
    "# Removing outliers from above columns\n",
    "outliers_columns_set1= ['loan_amnt', 'funded_amnt', 'funded_amnt_inv']\n",
    "outliers_columns_set2=['int_rate', 'installment', 'annual_inc']\n",
    "# Define a function to remove outliers based on IQR\n",
    "def remove_outliers_iqr(data, columns,threshold):\n",
    "    for col in columns:\n",
    "        Q1 = data[col].quantile(0.25)\n",
    "        Q3 = data[col].quantile(0.75)\n",
    "        IQR = Q3 - Q1\n",
    "        lower_bound = Q1 - threshold * IQR\n",
    "        upper_bound = Q3 + threshold * IQR\n",
    "        data = data[(data[col] >= lower_bound) & (data[col] <= upper_bound)]\n",
    "    return data\n",
    "\n",
    "# Remove outliers from the DataFrame normally we consider +-1.5 times of lower and upper quartile as outlier\n",
    "loan_df =remove_outliers_iqr(loan_df, outliers_columns_set1,1.5)\n",
    "loan_df =remove_outliers_iqr(loan_df, outliers_columns_set2,1.5)\n",
    "\n"
   ]
  },
  {
   "cell_type": "code",
   "execution_count": 75,
   "id": "ab48b5f4",
   "metadata": {
    "id": "ab48b5f4"
   },
   "outputs": [
    {
     "data": {
      "image/png": "[encoded data removed]",
      "text/plain": [
       "<Figure size 432x288 with 1 Axes>"
      ]
     },
     "metadata": {
      "needs_background": "light"
     },
     "output_type": "display_data"
    }
   ],
   "source": [
    "plot.boxplot(loan_df['loan_amnt'])\n",
    "plot.show()"
   ]
  },
  {
   "cell_type": "code",
   "execution_count": 76,
   "id": "ac595d2c",
   "metadata": {
    "id": "ac595d2c"
   },
   "outputs": [
    {
     "data": {
      "image/png": "[encoded data removed]",
      "text/plain": [
       "<Figure size 432x288 with 1 Axes>"
      ]
     },
     "metadata": {
      "needs_background": "light"
     },
     "output_type": "display_data"
    }
   ],
   "source": [
    "plot.boxplot(loan_df['funded_amnt_inv'])\n",
    "plot.show()"
   ]
  },
  {
   "cell_type": "code",
   "execution_count": 77,
   "id": "42e2b6c0",
   "metadata": {
    "id": "42e2b6c0"
   },
   "outputs": [
    {
     "data": {
      "image/png": "[encoded data removed]",
      "text/plain": [
       "<Figure size 432x288 with 1 Axes>"
      ]
     },
     "metadata": {
      "needs_background": "light"
     },
     "output_type": "display_data"
    }
   ],
   "source": [
    "plot.boxplot(loan_df['funded_amnt'])\n",
    "plot.show()"
   ]
  },
  {
   "cell_type": "code",
   "execution_count": 78,
   "id": "496d0182",
   "metadata": {
    "id": "496d0182"
   },
   "outputs": [
    {
     "data": {
      "image/png": "[encoded data removed]",
      "text/plain": [
       "<Figure size 432x288 with 1 Axes>"
      ]
     },
     "metadata": {
      "needs_background": "light"
     },
     "output_type": "display_data"
    }
   ],
   "source": [
    "plot.boxplot(loan_df['annual_inc'])\n",
    "plot.show()"
   ]
  },
  {
   "cell_type": "code",
   "execution_count": 79,
   "id": "7b200717",
   "metadata": {
    "id": "7b200717"
   },
   "outputs": [
    {
     "data": {
      "image/png": "[encoded data removed]",
      "text/plain": [
       "<Figure size 432x288 with 1 Axes>"
      ]
     },
     "metadata": {
      "needs_background": "light"
     },
     "output_type": "display_data"
    }
   ],
   "source": [
    "plot.boxplot(loan_df['int_rate'])\n",
    "plot.show()"
   ]
  },
  {
   "cell_type": "code",
   "execution_count": 80,
   "id": "8a50f3c4",
   "metadata": {
    "id": "8a50f3c4"
   },
   "outputs": [
    {
     "data": {
      "image/png": "[encoded data removed]",
      "text/plain": [
       "<Figure size 432x288 with 1 Axes>"
      ]
     },
     "metadata": {
      "needs_background": "light"
     },
     "output_type": "display_data"
    }
   ],
   "source": [
    "plot.boxplot(loan_df['installment'])\n",
    "plot.show()"
   ]
  },
  {
   "cell_type": "code",
   "execution_count": 86,
   "id": "1aee7919",
   "metadata": {},
   "outputs": [],
   "source": [
    "# Univarients function\n",
    "def plot_digram(df, column):\n",
    "    fig, p = plot.subplots(1,2, figsize=(20, 5))\n",
    "    sea.histplot(df.loc[df[column].notnull(), column], kde=True, ax=p[0])\n",
    "    sea.boxplot(x=column, data=df, ax=p[1])\n",
    "    p[0].set_xlabel(column_titles[column])\n",
    "    p[1].set_xlabel(column_titles[column])\n",
    "    plot.tight_layout()\n",
    "    plot.show()"
   ]
  },
  {
   "cell_type": "code",
   "execution_count": 87,
   "id": "5ec3be7d",
   "metadata": {
    "id": "5ec3be7d"
   },
   "outputs": [
    {
     "data": {
      "image/png": "[encoded data removed]",
      "text/plain": [
       "<Figure size 1440x360 with 2 Axes>"
      ]
     },
     "metadata": {
      "needs_background": "light"
     },
     "output_type": "display_data"
    },
    {
     "data": {
      "text/plain": [
       "count    31045.000000\n",
       "mean      9167.771783\n",
       "std       5127.962720\n",
       "min        500.000000\n",
       "25%       5000.000000\n",
       "50%       8000.000000\n",
       "75%      12000.000000\n",
       "max      24500.000000\n",
       "Name: loan_amnt, dtype: float64"
      ]
     },
     "execution_count": 87,
     "metadata": {},
     "output_type": "execute_result"
    }
   ],
   "source": [
    "plot_digram(loan_df, 'loan_amnt')\n",
    "loan_df['loan_amnt'].describe()"
   ]
  },
  {
   "cell_type": "code",
   "execution_count": 88,
   "id": "e7aa8353",
   "metadata": {
    "id": "e7aa8353"
   },
   "outputs": [],
   "source": [
    "# observation:\n",
    "# Most of the loan amount applied were in the range of 5k-13k.\n",
    "# Maximum Loan amount applied was ~25k."
   ]
  },
  {
   "cell_type": "code",
   "execution_count": 89,
   "id": "36ad6391",
   "metadata": {
    "id": "36ad6391"
   },
   "outputs": [
    {
     "data": {
      "image/png": "[encoded data removed]",
      "text/plain": [
       "<Figure size 1440x360 with 2 Axes>"
      ]
     },
     "metadata": {
      "needs_background": "light"
     },
     "output_type": "display_data"
    },
    {
     "data": {
      "text/plain": [
       "count     31045.000000\n",
       "mean      57174.848373\n",
       "std       24356.318319\n",
       "min        4000.000000\n",
       "25%       39000.000000\n",
       "50%       53800.000000\n",
       "75%       72000.000000\n",
       "max      123735.000000\n",
       "Name: annual_inc, dtype: float64"
      ]
     },
     "execution_count": 89,
     "metadata": {},
     "output_type": "execute_result"
    }
   ],
   "source": [
    "plot_digram(loan_df, 'annual_inc')\n",
    "loan_df['annual_inc'].describe()"
   ]
  },
  {
   "cell_type": "code",
   "execution_count": 90,
   "id": "aa6001b2",
   "metadata": {
    "colab": {
     "base_uri": "https://localhost:8080/"
    },
    "id": "aa6001b2",
    "outputId": "69a1e0c0-871f-4c08-e976-1fc8a565b2e6"
   },
   "outputs": [
    {
     "name": "stdout",
     "output_type": "stream",
     "text": [
      "Average Anual Income is : 57175.0\n"
     ]
    }
   ],
   "source": [
    "# The Annual income of most if applicants lies between 39k-73k.\n",
    "print(\"Average Anual Income is :\", round(loan_df['annual_inc'].mean(),0))"
   ]
  },
  {
   "cell_type": "code",
   "execution_count": 91,
   "id": "eOFnm5RJ38El",
   "metadata": {
    "id": "eOFnm5RJ38El"
   },
   "outputs": [
    {
     "data": {
      "image/png": "[encoded data removed]",
      "text/plain": [
       "<Figure size 1440x360 with 2 Axes>"
      ]
     },
     "metadata": {
      "needs_background": "light"
     },
     "output_type": "display_data"
    },
    {
     "data": {
      "text/plain": [
       "count    31045.000000\n",
       "mean      8994.954904\n",
       "std       4957.766515\n",
       "min        500.000000\n",
       "25%       5000.000000\n",
       "50%       8000.000000\n",
       "75%      12000.000000\n",
       "max      22500.000000\n",
       "Name: funded_amnt, dtype: float64"
      ]
     },
     "execution_count": 91,
     "metadata": {},
     "output_type": "execute_result"
    }
   ],
   "source": [
    "plot_digram(loan_df, 'funded_amnt')\n",
    "loan_df['funded_amnt'].describe()"
   ]
  },
  {
   "cell_type": "code",
   "execution_count": 92,
   "id": "48636580",
   "metadata": {},
   "outputs": [],
   "source": [
    "# Maximum funded amount is 22500\n",
    "# Most funded amounts are in range 5K-13K"
   ]
  },
  {
   "cell_type": "code",
   "execution_count": 93,
   "id": "506130d4",
   "metadata": {
    "id": "506130d4"
   },
   "outputs": [
    {
     "data": {
      "image/png": "[encoded data removed]",
      "text/plain": [
       "<Figure size 1440x360 with 2 Axes>"
      ]
     },
     "metadata": {
      "needs_background": "light"
     },
     "output_type": "display_data"
    },
    {
     "data": {
      "text/plain": [
       "count    31045.000000\n",
       "mean        11.644664\n",
       "std          3.524588\n",
       "min          5.420000\n",
       "25%          8.880000\n",
       "50%         11.490000\n",
       "75%         13.990000\n",
       "max         21.820000\n",
       "Name: int_rate, dtype: float64"
      ]
     },
     "execution_count": 93,
     "metadata": {},
     "output_type": "execute_result"
    }
   ],
   "source": [
    "plot_digram(loan_df, 'int_rate')\n",
    "loan_df['int_rate'].describe()"
   ]
  },
  {
   "cell_type": "code",
   "execution_count": 77,
   "id": "f33dd225",
   "metadata": {
    "id": "f33dd225"
   },
   "outputs": [],
   "source": [
    "# Rate of intrest for most applicants is  8%-14%.\n",
    "# Average Rate of interest of rate is 11.7 %"
   ]
  },
  {
   "cell_type": "markdown",
   "id": "63214634",
   "metadata": {
    "id": "UpMjUsYozkc1"
   },
   "source": [
    "### Unordered Categorical Variable Analysis"
   ]
  },
  {
   "cell_type": "code",
   "execution_count": 94,
   "id": "6gxExigAzkIY",
   "metadata": {
    "id": "6gxExigAzkIY"
   },
   "outputs": [
    {
     "data": {
      "text/plain": [
       "<AxesSubplot:>"
      ]
     },
     "execution_count": 94,
     "metadata": {},
     "output_type": "execute_result"
    },
    {
     "data": {
      "image/png": "[encoded data removed]",
      "text/plain": [
       "<Figure size 432x288 with 1 Axes>"
      ]
     },
     "metadata": {
      "needs_background": "light"
     },
     "output_type": "display_data"
    }
   ],
   "source": [
    "loan_df['home_ownership'].value_counts().plot.bar()"
   ]
  },
  {
   "cell_type": "code",
   "execution_count": 95,
   "id": "223a39da",
   "metadata": {
    "id": "223a39da"
   },
   "outputs": [],
   "source": [
    "# Majority of loan applicants are either living on Rent or on Mortgage"
   ]
  },
  {
   "cell_type": "code",
   "execution_count": 96,
   "id": "197fd250",
   "metadata": {
    "id": "197fd250"
   },
   "outputs": [
    {
     "data": {
      "text/plain": [
       "<AxesSubplot:>"
      ]
     },
     "execution_count": 96,
     "metadata": {},
     "output_type": "execute_result"
    },
    {
     "data": {
      "image/png": "[encoded data removed]",
      "text/plain": [
       "<Figure size 432x288 with 1 Axes>"
      ]
     },
     "metadata": {
      "needs_background": "light"
     },
     "output_type": "display_data"
    }
   ],
   "source": [
    "loan_df['purpose'].value_counts().plot.bar()"
   ]
  },
  {
   "cell_type": "code",
   "execution_count": 97,
   "id": "965336a6",
   "metadata": {
    "id": "965336a6"
   },
   "outputs": [],
   "source": [
    "# Most of the loan applicants are for debt_consolidations."
   ]
  },
  {
   "cell_type": "code",
   "execution_count": 98,
   "id": "kP-_Fq1qUb9O",
   "metadata": {
    "colab": {
     "base_uri": "https://localhost:8080/"
    },
    "id": "kP-_Fq1qUb9O",
    "outputId": "42026ace-18ca-4e59-ad41-8d888d42ada1"
   },
   "outputs": [
    {
     "data": {
      "text/plain": [
       "Fully Paid     26721\n",
       "Charged Off     4324\n",
       "Name: loan_status, dtype: int64"
      ]
     },
     "execution_count": 98,
     "metadata": {},
     "output_type": "execute_result"
    }
   ],
   "source": [
    "Failed_per_houseowner_ship=loan_df\n",
    "Failed_per_houseowner_ship[\"loan_status\"].value_counts()"
   ]
  },
  {
   "cell_type": "code",
   "execution_count": 107,
   "id": "VMvoJBJAmhz7",
   "metadata": {
    "id": "VMvoJBJAmhz7"
   },
   "outputs": [
    {
     "data": {
      "text/plain": [
       "<AxesSubplot:>"
      ]
     },
     "execution_count": 107,
     "metadata": {},
     "output_type": "execute_result"
    },
    {
     "data": {
      "image/png": "[encoded data removed]",
      "text/plain": [
       "<Figure size 1296x360 with 1 Axes>"
      ]
     },
     "metadata": {
      "needs_background": "light"
     },
     "output_type": "display_data"
    }
   ],
   "source": [
    "loan_df['addr_state'].value_counts().plot.bar(figsize=(18,5))"
   ]
  },
  {
   "cell_type": "code",
   "execution_count": 108,
   "id": "bf3c68a2",
   "metadata": {
    "id": "bf3c68a2"
   },
   "outputs": [],
   "source": [
    "# Most of the Loan applicants are from CA(State)."
   ]
  },
  {
   "cell_type": "markdown",
   "id": "f214ea4d",
   "metadata": {
    "id": "f214ea4d"
   },
   "source": [
    "#### 5.3 Ordered Categorical Variable Analysis"
   ]
  },
  {
   "cell_type": "code",
   "execution_count": 109,
   "id": "M2Ps1QhfnyzM",
   "metadata": {
    "id": "M2Ps1QhfnyzM"
   },
   "outputs": [
    {
     "data": {
      "text/plain": [
       "<AxesSubplot:ylabel='emp_length'>"
      ]
     },
     "execution_count": 109,
     "metadata": {},
     "output_type": "execute_result"
    },
    {
     "data": {
      "image/png": "[encoded data removed]",
      "text/plain": [
       "<Figure size 432x288 with 1 Axes>"
      ]
     },
     "metadata": {},
     "output_type": "display_data"
    }
   ],
   "source": [
    "loan_df['emp_length'].value_counts().plot(kind=\"pie\")"
   ]
  },
  {
   "cell_type": "code",
   "execution_count": 110,
   "id": "fc8fbfcf",
   "metadata": {
    "id": "fc8fbfcf"
   },
   "outputs": [],
   "source": [
    "# Most of the applications are having 10+ yrs of Exp."
   ]
  },
  {
   "cell_type": "markdown",
   "id": "49KRjzZiJhc_",
   "metadata": {
    "id": "49KRjzZiJhc_"
   },
   "source": [
    "## 6.  Bivariate Analysis"
   ]
  },
  {
   "cell_type": "code",
   "execution_count": 115,
   "id": "npQjzEXHDB6C",
   "metadata": {
    "id": "npQjzEXHDB6C"
   },
   "outputs": [
    {
     "data": {
      "text/html": [
       "<div>\n",
       "<style scoped>\n",
       "    .dataframe tbody tr th:only-of-type {\n",
       "        vertical-align: middle;\n",
       "    }\n",
       "\n",
       "    .dataframe tbody tr th {\n",
       "        vertical-align: top;\n",
       "    }\n",
       "\n",
       "    .dataframe thead th {\n",
       "        text-align: right;\n",
       "    }\n",
       "</style>\n",
       "<table border=\"1\" class=\"dataframe\">\n",
       "  <thead>\n",
       "    <tr style=\"text-align: right;\">\n",
       "      <th>loan_status</th>\n",
       "      <th>annual_inc_bucket</th>\n",
       "      <th>Charged Off</th>\n",
       "      <th>Fully Paid</th>\n",
       "      <th>Total</th>\n",
       "      <th>Chargedoff_Proportion</th>\n",
       "    </tr>\n",
       "  </thead>\n",
       "  <tbody>\n",
       "    <tr>\n",
       "      <th>0</th>\n",
       "      <td>0 - 40k</td>\n",
       "      <td>1559</td>\n",
       "      <td>7309</td>\n",
       "      <td>8868</td>\n",
       "      <td>0.175801</td>\n",
       "    </tr>\n",
       "    <tr>\n",
       "      <th>2</th>\n",
       "      <td>50k to 60k</td>\n",
       "      <td>733</td>\n",
       "      <td>4294</td>\n",
       "      <td>5027</td>\n",
       "      <td>0.145813</td>\n",
       "    </tr>\n",
       "    <tr>\n",
       "      <th>1</th>\n",
       "      <td>40k - 50k</td>\n",
       "      <td>767</td>\n",
       "      <td>4522</td>\n",
       "      <td>5289</td>\n",
       "      <td>0.145018</td>\n",
       "    </tr>\n",
       "    <tr>\n",
       "      <th>3</th>\n",
       "      <td>60k to 70k</td>\n",
       "      <td>433</td>\n",
       "      <td>3110</td>\n",
       "      <td>3543</td>\n",
       "      <td>0.122213</td>\n",
       "    </tr>\n",
       "    <tr>\n",
       "      <th>4</th>\n",
       "      <td>70k to 80k</td>\n",
       "      <td>346</td>\n",
       "      <td>2581</td>\n",
       "      <td>2927</td>\n",
       "      <td>0.118210</td>\n",
       "    </tr>\n",
       "    <tr>\n",
       "      <th>5</th>\n",
       "      <td>80k - above</td>\n",
       "      <td>486</td>\n",
       "      <td>4905</td>\n",
       "      <td>5391</td>\n",
       "      <td>0.090150</td>\n",
       "    </tr>\n",
       "  </tbody>\n",
       "</table>\n",
       "</div>"
      ],
      "text/plain": [
       "loan_status annual_inc_bucket  Charged Off  Fully Paid  Total  \\\n",
       "0                     0 - 40k         1559        7309   8868   \n",
       "2                  50k to 60k          733        4294   5027   \n",
       "1                   40k - 50k          767        4522   5289   \n",
       "3                  60k to 70k          433        3110   3543   \n",
       "4                  70k to 80k          346        2581   2927   \n",
       "5                 80k - above          486        4905   5391   \n",
       "\n",
       "loan_status  Chargedoff_Proportion  \n",
       "0                         0.175801  \n",
       "2                         0.145813  \n",
       "1                         0.145018  \n",
       "3                         0.122213  \n",
       "4                         0.118210  \n",
       "5                         0.090150  "
      ]
     },
     "execution_count": 115,
     "metadata": {},
     "output_type": "execute_result"
    }
   ],
   "source": [
    "#Bivariate Analysis on annual income against Chargedoff_Proportion -\n",
    "\n",
    "inc_range_vs_loan = loan_df.groupby(['annual_inc_bucket', 'loan_status']).loan_status.count().unstack().fillna(0).reset_index()\n",
    "inc_range_vs_loan['Total'] = inc_range_vs_loan['Charged Off']+ inc_range_vs_loan['Fully Paid']\n",
    "inc_range_vs_loan['Chargedoff_Proportion'] = inc_range_vs_loan['Charged Off'] / inc_range_vs_loan['Total']\n",
    "inc_range_vs_loan.sort_values('Chargedoff_Proportion', ascending=False)"
   ]
  },
  {
   "cell_type": "code",
   "execution_count": 116,
   "id": "G6G65yI8EY3i",
   "metadata": {
    "id": "G6G65yI8EY3i"
   },
   "outputs": [
    {
     "data": {
      "image/png": "[encoded data removed]",
      "text/plain": [
       "<Figure size 864x576 with 1 Axes>"
      ]
     },
     "metadata": {},
     "output_type": "display_data"
    }
   ],
   "source": [
    "# Lets draw bar plots on data calculated above. Try to visualize the pattern to understand the data better.\n",
    "\n",
    "fig, ax1 = plot.subplots(figsize=(12, 8),facecolor='b')\n",
    "ax1.set_title('Annual Income vs Chargedoff Proportion',fontsize=15,color = 'w')\n",
    "ax1=sea.barplot(x='annual_inc_bucket', y='Chargedoff_Proportion', data=inc_range_vs_loan)\n",
    "ax1.set_ylabel('Chargedoff Proportion',fontsize=14,color = 'w')\n",
    "ax1.set_xlabel('Annual Income',fontsize=14,color='w')\n",
    "plot.show()"
   ]
  },
  {
   "cell_type": "code",
   "execution_count": 117,
   "id": "fBi6CzO_Hs5D",
   "metadata": {
    "id": "fBi6CzO_Hs5D"
   },
   "outputs": [
    {
     "data": {
      "text/html": [
       "<div>\n",
       "<style scoped>\n",
       "    .dataframe tbody tr th:only-of-type {\n",
       "        vertical-align: middle;\n",
       "    }\n",
       "\n",
       "    .dataframe tbody tr th {\n",
       "        vertical-align: top;\n",
       "    }\n",
       "\n",
       "    .dataframe thead th {\n",
       "        text-align: right;\n",
       "    }\n",
       "</style>\n",
       "<table border=\"1\" class=\"dataframe\">\n",
       "  <thead>\n",
       "    <tr style=\"text-align: right;\">\n",
       "      <th>loan_status</th>\n",
       "      <th>int_rate_bucket</th>\n",
       "      <th>Charged Off</th>\n",
       "      <th>Fully Paid</th>\n",
       "      <th>Total</th>\n",
       "      <th>Chargedoff_Proportion</th>\n",
       "    </tr>\n",
       "  </thead>\n",
       "  <tbody>\n",
       "    <tr>\n",
       "      <th>3</th>\n",
       "      <td>Very High</td>\n",
       "      <td>1449</td>\n",
       "      <td>4176</td>\n",
       "      <td>5625</td>\n",
       "      <td>0.257600</td>\n",
       "    </tr>\n",
       "    <tr>\n",
       "      <th>0</th>\n",
       "      <td>High</td>\n",
       "      <td>911</td>\n",
       "      <td>4480</td>\n",
       "      <td>5391</td>\n",
       "      <td>0.168985</td>\n",
       "    </tr>\n",
       "    <tr>\n",
       "      <th>2</th>\n",
       "      <td>Moderate</td>\n",
       "      <td>905</td>\n",
       "      <td>5315</td>\n",
       "      <td>6220</td>\n",
       "      <td>0.145498</td>\n",
       "    </tr>\n",
       "    <tr>\n",
       "      <th>1</th>\n",
       "      <td>Low</td>\n",
       "      <td>553</td>\n",
       "      <td>4779</td>\n",
       "      <td>5332</td>\n",
       "      <td>0.103713</td>\n",
       "    </tr>\n",
       "    <tr>\n",
       "      <th>4</th>\n",
       "      <td>Very Low</td>\n",
       "      <td>506</td>\n",
       "      <td>7971</td>\n",
       "      <td>8477</td>\n",
       "      <td>0.059691</td>\n",
       "    </tr>\n",
       "  </tbody>\n",
       "</table>\n",
       "</div>"
      ],
      "text/plain": [
       "loan_status int_rate_bucket  Charged Off  Fully Paid  Total  \\\n",
       "3                 Very High         1449        4176   5625   \n",
       "0                      High          911        4480   5391   \n",
       "2                  Moderate          905        5315   6220   \n",
       "1                       Low          553        4779   5332   \n",
       "4                  Very Low          506        7971   8477   \n",
       "\n",
       "loan_status  Chargedoff_Proportion  \n",
       "3                         0.257600  \n",
       "0                         0.168985  \n",
       "2                         0.145498  \n",
       "1                         0.103713  \n",
       "4                         0.059691  "
      ]
     },
     "execution_count": 117,
     "metadata": {},
     "output_type": "execute_result"
    }
   ],
   "source": [
    "#Bivariate Analysis on Intrest rate  against Chargedoff_Proportion -\n",
    "\n",
    "interest_vs_loan = loan_df.groupby(['int_rate_bucket', 'loan_status']).loan_status.count().unstack().fillna(0).reset_index()\n",
    "interest_vs_loan['Total'] = interest_vs_loan['Charged Off']+ interest_vs_loan['Fully Paid']\n",
    "interest_vs_loan['Chargedoff_Proportion'] = interest_vs_loan['Charged Off'] / interest_vs_loan['Total']\n",
    "interest_vs_loan.sort_values('Chargedoff_Proportion', ascending=False)\n"
   ]
  },
  {
   "cell_type": "code",
   "execution_count": 119,
   "id": "qTn8tedAIdFS",
   "metadata": {
    "id": "qTn8tedAIdFS"
   },
   "outputs": [
    {
     "data": {
      "image/png": "[encoded data removed]",
      "text/plain": [
       "<Figure size 864x576 with 1 Axes>"
      ]
     },
     "metadata": {},
     "output_type": "display_data"
    }
   ],
   "source": [
    "## plot the diagram.\n",
    "fig, ax1 = plot.subplots(figsize=(12, 8),facecolor='b')\n",
    "ax1.set_title('Interest Rate vs Chargedoff Proportion',fontsize=15,color='w')\n",
    "ax1=sea.barplot(x='int_rate_bucket', y='Chargedoff_Proportion', data=interest_vs_loan)\n",
    "ax1.set_xlabel('Interest Rate',fontsize=14,color='w')\n",
    "ax1.set_ylabel('Chargedoff Proportion',fontsize=14,color = 'w')\n",
    "plot.show()\n",
    "\n",
    "# Observations:\n",
    "# interest rate less than 10% or very low has very less chances of charged off. Intrest rates are starting from minimin 5 %.\n",
    "# interest rate more than 16% or very high has good chnaces of charged off as compared to other category intrest rates.\n",
    "# Charged off proportion is increasing with higher intrest rates.\n"
   ]
  },
  {
   "cell_type": "markdown",
   "id": "rDvetqMu0hMo",
   "metadata": {
    "id": "rDvetqMu0hMo"
   },
   "source": [
    "Another inference form the houseowner variable those who are not owning the house are most likely to be charged off."
   ]
  },
  {
   "cell_type": "code",
   "execution_count": 120,
   "id": "ac7e1913",
   "metadata": {
    "id": "ac7e1913"
   },
   "outputs": [
    {
     "data": {
      "text/html": [
       "<div>\n",
       "<style scoped>\n",
       "    .dataframe tbody tr th:only-of-type {\n",
       "        vertical-align: middle;\n",
       "    }\n",
       "\n",
       "    .dataframe tbody tr th {\n",
       "        vertical-align: top;\n",
       "    }\n",
       "\n",
       "    .dataframe thead th {\n",
       "        text-align: right;\n",
       "    }\n",
       "</style>\n",
       "<table border=\"1\" class=\"dataframe\">\n",
       "  <thead>\n",
       "    <tr style=\"text-align: right;\">\n",
       "      <th>loan_status</th>\n",
       "      <th>home_ownership</th>\n",
       "      <th>Charged Off</th>\n",
       "      <th>Fully Paid</th>\n",
       "      <th>Total</th>\n",
       "      <th>Chargedoff_Proportion</th>\n",
       "    </tr>\n",
       "  </thead>\n",
       "  <tbody>\n",
       "    <tr>\n",
       "      <th>1</th>\n",
       "      <td>OTHER</td>\n",
       "      <td>16</td>\n",
       "      <td>69</td>\n",
       "      <td>85</td>\n",
       "      <td>0.188235</td>\n",
       "    </tr>\n",
       "    <tr>\n",
       "      <th>3</th>\n",
       "      <td>RENT</td>\n",
       "      <td>2338</td>\n",
       "      <td>13581</td>\n",
       "      <td>15919</td>\n",
       "      <td>0.146869</td>\n",
       "    </tr>\n",
       "    <tr>\n",
       "      <th>2</th>\n",
       "      <td>OWN</td>\n",
       "      <td>333</td>\n",
       "      <td>2030</td>\n",
       "      <td>2363</td>\n",
       "      <td>0.140923</td>\n",
       "    </tr>\n",
       "    <tr>\n",
       "      <th>0</th>\n",
       "      <td>MORTGAGE</td>\n",
       "      <td>1637</td>\n",
       "      <td>11041</td>\n",
       "      <td>12678</td>\n",
       "      <td>0.129121</td>\n",
       "    </tr>\n",
       "  </tbody>\n",
       "</table>\n",
       "</div>"
      ],
      "text/plain": [
       "loan_status home_ownership  Charged Off  Fully Paid  Total  \\\n",
       "1                    OTHER           16          69     85   \n",
       "3                     RENT         2338       13581  15919   \n",
       "2                      OWN          333        2030   2363   \n",
       "0                 MORTGAGE         1637       11041  12678   \n",
       "\n",
       "loan_status  Chargedoff_Proportion  \n",
       "1                         0.188235  \n",
       "3                         0.146869  \n",
       "2                         0.140923  \n",
       "0                         0.129121  "
      ]
     },
     "execution_count": 120,
     "metadata": {},
     "output_type": "execute_result"
    }
   ],
   "source": [
    "#Bivariate Analysis of Home Ownership against Chargedoff_Proportion -\n",
    "\n",
    "home_ownership_vs_loan = loan_df.groupby(['home_ownership', 'loan_status']).loan_status.count().unstack().fillna(0).reset_index()\n",
    "home_ownership_vs_loan['Total'] = home_ownership_vs_loan['Charged Off']+ home_ownership_vs_loan['Fully Paid']\n",
    "home_ownership_vs_loan['Chargedoff_Proportion'] = home_ownership_vs_loan['Charged Off'] / home_ownership_vs_loan['Total']\n",
    "home_ownership_vs_loan.sort_values('Chargedoff_Proportion', ascending=False)"
   ]
  },
  {
   "cell_type": "code",
   "execution_count": 121,
   "id": "8820a20c",
   "metadata": {
    "id": "8820a20c"
   },
   "outputs": [
    {
     "data": {
      "image/png": "[encoded data removed]",
      "text/plain": [
       "<Figure size 864x576 with 1 Axes>"
      ]
     },
     "metadata": {},
     "output_type": "display_data"
    }
   ],
   "source": [
    "\n",
    "fig, ax1 = plot.subplots(figsize=(12, 8),facecolor='b')\n",
    "ax1.set_title('Home Ownership vs Chargedoff Proportion',fontsize=15,color='w')\n",
    "ax1=sea.barplot(x='home_ownership', y='Chargedoff_Proportion', data=home_ownership_vs_loan)\n",
    "ax1.set_xlabel('Home Ownership',fontsize=14,color='w')\n",
    "ax1.set_ylabel('Chargedoff Proportion',fontsize=14,color = 'w')\n",
    "plot.show()"
   ]
  },
  {
   "cell_type": "code",
   "execution_count": 122,
   "id": "7201507a",
   "metadata": {
    "id": "7201507a"
   },
   "outputs": [],
   "source": [
    "# observation:\n",
    "# Those who are not owning the home is having high chances of loan defaults."
   ]
  },
  {
   "cell_type": "code",
   "execution_count": 123,
   "id": "ba572f4f",
   "metadata": {
    "id": "ba572f4f"
   },
   "outputs": [
    {
     "data": {
      "text/html": [
       "<div>\n",
       "<style scoped>\n",
       "    .dataframe tbody tr th:only-of-type {\n",
       "        vertical-align: middle;\n",
       "    }\n",
       "\n",
       "    .dataframe tbody tr th {\n",
       "        vertical-align: top;\n",
       "    }\n",
       "\n",
       "    .dataframe thead th {\n",
       "        text-align: right;\n",
       "    }\n",
       "</style>\n",
       "<table border=\"1\" class=\"dataframe\">\n",
       "  <thead>\n",
       "    <tr style=\"text-align: right;\">\n",
       "      <th>loan_status</th>\n",
       "      <th>purpose</th>\n",
       "      <th>Charged Off</th>\n",
       "      <th>Fully Paid</th>\n",
       "      <th>Total</th>\n",
       "      <th>Chargedoff_Proportion</th>\n",
       "    </tr>\n",
       "  </thead>\n",
       "  <tbody>\n",
       "    <tr>\n",
       "      <th>11</th>\n",
       "      <td>small_business</td>\n",
       "      <td>322</td>\n",
       "      <td>912</td>\n",
       "      <td>1234</td>\n",
       "      <td>0.260940</td>\n",
       "    </tr>\n",
       "    <tr>\n",
       "      <th>10</th>\n",
       "      <td>renewable_energy</td>\n",
       "      <td>15</td>\n",
       "      <td>64</td>\n",
       "      <td>79</td>\n",
       "      <td>0.189873</td>\n",
       "    </tr>\n",
       "    <tr>\n",
       "      <th>3</th>\n",
       "      <td>educational</td>\n",
       "      <td>46</td>\n",
       "      <td>232</td>\n",
       "      <td>278</td>\n",
       "      <td>0.165468</td>\n",
       "    </tr>\n",
       "    <tr>\n",
       "      <th>5</th>\n",
       "      <td>house</td>\n",
       "      <td>45</td>\n",
       "      <td>232</td>\n",
       "      <td>277</td>\n",
       "      <td>0.162455</td>\n",
       "    </tr>\n",
       "    <tr>\n",
       "      <th>7</th>\n",
       "      <td>medical</td>\n",
       "      <td>91</td>\n",
       "      <td>487</td>\n",
       "      <td>578</td>\n",
       "      <td>0.157439</td>\n",
       "    </tr>\n",
       "    <tr>\n",
       "      <th>9</th>\n",
       "      <td>other</td>\n",
       "      <td>505</td>\n",
       "      <td>2734</td>\n",
       "      <td>3239</td>\n",
       "      <td>0.155912</td>\n",
       "    </tr>\n",
       "    <tr>\n",
       "      <th>8</th>\n",
       "      <td>moving</td>\n",
       "      <td>74</td>\n",
       "      <td>410</td>\n",
       "      <td>484</td>\n",
       "      <td>0.152893</td>\n",
       "    </tr>\n",
       "    <tr>\n",
       "      <th>12</th>\n",
       "      <td>vacation</td>\n",
       "      <td>48</td>\n",
       "      <td>274</td>\n",
       "      <td>322</td>\n",
       "      <td>0.149068</td>\n",
       "    </tr>\n",
       "    <tr>\n",
       "      <th>2</th>\n",
       "      <td>debt_consolidation</td>\n",
       "      <td>2111</td>\n",
       "      <td>12305</td>\n",
       "      <td>14416</td>\n",
       "      <td>0.146435</td>\n",
       "    </tr>\n",
       "    <tr>\n",
       "      <th>4</th>\n",
       "      <td>home_improvement</td>\n",
       "      <td>249</td>\n",
       "      <td>1858</td>\n",
       "      <td>2107</td>\n",
       "      <td>0.118178</td>\n",
       "    </tr>\n",
       "    <tr>\n",
       "      <th>0</th>\n",
       "      <td>car</td>\n",
       "      <td>145</td>\n",
       "      <td>1194</td>\n",
       "      <td>1339</td>\n",
       "      <td>0.108290</td>\n",
       "    </tr>\n",
       "    <tr>\n",
       "      <th>1</th>\n",
       "      <td>credit_card</td>\n",
       "      <td>412</td>\n",
       "      <td>3646</td>\n",
       "      <td>4058</td>\n",
       "      <td>0.101528</td>\n",
       "    </tr>\n",
       "    <tr>\n",
       "      <th>6</th>\n",
       "      <td>major_purchase</td>\n",
       "      <td>187</td>\n",
       "      <td>1655</td>\n",
       "      <td>1842</td>\n",
       "      <td>0.101520</td>\n",
       "    </tr>\n",
       "    <tr>\n",
       "      <th>13</th>\n",
       "      <td>wedding</td>\n",
       "      <td>74</td>\n",
       "      <td>718</td>\n",
       "      <td>792</td>\n",
       "      <td>0.093434</td>\n",
       "    </tr>\n",
       "  </tbody>\n",
       "</table>\n",
       "</div>"
      ],
      "text/plain": [
       "loan_status             purpose  Charged Off  Fully Paid  Total  \\\n",
       "11               small_business          322         912   1234   \n",
       "10             renewable_energy           15          64     79   \n",
       "3                   educational           46         232    278   \n",
       "5                         house           45         232    277   \n",
       "7                       medical           91         487    578   \n",
       "9                         other          505        2734   3239   \n",
       "8                        moving           74         410    484   \n",
       "12                     vacation           48         274    322   \n",
       "2            debt_consolidation         2111       12305  14416   \n",
       "4              home_improvement          249        1858   2107   \n",
       "0                           car          145        1194   1339   \n",
       "1                   credit_card          412        3646   4058   \n",
       "6                major_purchase          187        1655   1842   \n",
       "13                      wedding           74         718    792   \n",
       "\n",
       "loan_status  Chargedoff_Proportion  \n",
       "11                        0.260940  \n",
       "10                        0.189873  \n",
       "3                         0.165468  \n",
       "5                         0.162455  \n",
       "7                         0.157439  \n",
       "9                         0.155912  \n",
       "8                         0.152893  \n",
       "12                        0.149068  \n",
       "2                         0.146435  \n",
       "4                         0.118178  \n",
       "0                         0.108290  \n",
       "1                         0.101528  \n",
       "6                         0.101520  \n",
       "13                        0.093434  "
      ]
     },
     "execution_count": 123,
     "metadata": {},
     "output_type": "execute_result"
    }
   ],
   "source": [
    "#Bivariate Analysis on Purpose of loan against Chargedoff_Proportion -\n",
    "\n",
    "purpose_vs_loan = loan_df.groupby(['purpose', 'loan_status']).loan_status.count().unstack().fillna(0).reset_index()\n",
    "purpose_vs_loan['Total'] = purpose_vs_loan['Charged Off']+ purpose_vs_loan['Fully Paid']\n",
    "purpose_vs_loan['Chargedoff_Proportion'] = purpose_vs_loan['Charged Off'] / purpose_vs_loan['Total']\n",
    "purpose_vs_loan.sort_values('Chargedoff_Proportion', ascending=False)"
   ]
  },
  {
   "cell_type": "code",
   "execution_count": 124,
   "id": "bfe42e8d",
   "metadata": {
    "id": "bfe42e8d"
   },
   "outputs": [
    {
     "data": {
      "image/png": "[encoded data removed]",
      "text/plain": [
       "<Figure size 864x576 with 1 Axes>"
      ]
     },
     "metadata": {},
     "output_type": "display_data"
    }
   ],
   "source": [
    "fig, ax1 = plot.subplots(figsize=(12, 8),facecolor='b')\n",
    "ax1.set_title('Purpose vs Chargedoff Proportion',fontsize=15,color='w')\n",
    "ax1=sea.barplot(x='purpose', y='Chargedoff_Proportion', data=purpose_vs_loan)\n",
    "ax1.set_xlabel('Purchase of Loan',fontsize=14,color='w')\n",
    "ax1.set_ylabel('Chargedoff Proportion',fontsize=14,color = 'w')\n",
    "plot.xticks(rotation=45)\n",
    "plot.show()"
   ]
  },
  {
   "cell_type": "code",
   "execution_count": 125,
   "id": "502d838d",
   "metadata": {
    "id": "502d838d"
   },
   "outputs": [],
   "source": [
    "#1. Those applicants who is having home loan is having low chances of loan defaults.\n",
    "#2. Those applicants having loan for small bussiness is having high chances for loan defaults."
   ]
  },
  {
   "cell_type": "code",
   "execution_count": 126,
   "id": "913b9f07",
   "metadata": {
    "id": "913b9f07"
   },
   "outputs": [
    {
     "data": {
      "text/html": [
       "<div>\n",
       "<style scoped>\n",
       "    .dataframe tbody tr th:only-of-type {\n",
       "        vertical-align: middle;\n",
       "    }\n",
       "\n",
       "    .dataframe tbody tr th {\n",
       "        vertical-align: top;\n",
       "    }\n",
       "\n",
       "    .dataframe thead th {\n",
       "        text-align: right;\n",
       "    }\n",
       "</style>\n",
       "<table border=\"1\" class=\"dataframe\">\n",
       "  <thead>\n",
       "    <tr style=\"text-align: right;\">\n",
       "      <th>loan_status</th>\n",
       "      <th>dti_bucket</th>\n",
       "      <th>Charged Off</th>\n",
       "      <th>Fully Paid</th>\n",
       "      <th>Total</th>\n",
       "      <th>Chargedoff_Proportion</th>\n",
       "    </tr>\n",
       "  </thead>\n",
       "  <tbody>\n",
       "    <tr>\n",
       "      <th>3</th>\n",
       "      <td>Very High</td>\n",
       "      <td>965</td>\n",
       "      <td>5097</td>\n",
       "      <td>6062</td>\n",
       "      <td>0.159188</td>\n",
       "    </tr>\n",
       "    <tr>\n",
       "      <th>0</th>\n",
       "      <td>High</td>\n",
       "      <td>873</td>\n",
       "      <td>4801</td>\n",
       "      <td>5674</td>\n",
       "      <td>0.153860</td>\n",
       "    </tr>\n",
       "    <tr>\n",
       "      <th>2</th>\n",
       "      <td>Moderate</td>\n",
       "      <td>889</td>\n",
       "      <td>5399</td>\n",
       "      <td>6288</td>\n",
       "      <td>0.141380</td>\n",
       "    </tr>\n",
       "    <tr>\n",
       "      <th>1</th>\n",
       "      <td>Low</td>\n",
       "      <td>720</td>\n",
       "      <td>4963</td>\n",
       "      <td>5683</td>\n",
       "      <td>0.126694</td>\n",
       "    </tr>\n",
       "    <tr>\n",
       "      <th>4</th>\n",
       "      <td>Very Low</td>\n",
       "      <td>877</td>\n",
       "      <td>6461</td>\n",
       "      <td>7338</td>\n",
       "      <td>0.119515</td>\n",
       "    </tr>\n",
       "  </tbody>\n",
       "</table>\n",
       "</div>"
      ],
      "text/plain": [
       "loan_status dti_bucket  Charged Off  Fully Paid  Total  Chargedoff_Proportion\n",
       "3            Very High          965        5097   6062               0.159188\n",
       "0                 High          873        4801   5674               0.153860\n",
       "2             Moderate          889        5399   6288               0.141380\n",
       "1                  Low          720        4963   5683               0.126694\n",
       "4             Very Low          877        6461   7338               0.119515"
      ]
     },
     "execution_count": 126,
     "metadata": {},
     "output_type": "execute_result"
    }
   ],
   "source": [
    "#Bivariate Analysis on DTI against Chargedoff_Proportion -\n",
    "\n",
    "dti_vs_loan = loan_df.groupby(['dti_bucket', 'loan_status']).loan_status.count().unstack().fillna(0).reset_index()\n",
    "dti_vs_loan['Total'] = dti_vs_loan['Charged Off']+ dti_vs_loan['Fully Paid']\n",
    "dti_vs_loan['Chargedoff_Proportion'] = dti_vs_loan['Charged Off'] / dti_vs_loan['Total']\n",
    "dti_vs_loan.sort_values('Chargedoff_Proportion', ascending=False)"
   ]
  },
  {
   "cell_type": "code",
   "execution_count": 98,
   "id": "317d4fdd",
   "metadata": {
    "id": "317d4fdd"
   },
   "outputs": [
    {
     "data": {
      "image/png": "[encoded data removed]",
      "text/plain": [
       "<Figure size 1200x800 with 1 Axes>"
      ]
     },
     "metadata": {},
     "output_type": "display_data"
    }
   ],
   "source": [
    "fig, ax1 = plot.subplots(figsize=(12, 8),facecolor='b')\n",
    "ax1.set_title('Debt To Income Ratio vs Chargedoff Proportion',fontsize=15,color='w')\n",
    "ax1=sea.barplot(x='dti_b', y='Chargedoff_Proportion', data=dti_vs_loan)\n",
    "ax1.set_xlabel('Debt To Income Ratio',fontsize=14,color='w')\n",
    "ax1.set_ylabel('Chargedoff Proportion',fontsize=14,color = 'w')\n",
    "plot.xticks(rotation=45)\n",
    "plot.show()"
   ]
  },
  {
   "cell_type": "code",
   "execution_count": 128,
   "id": "d2c50a08",
   "metadata": {
    "id": "032ebf2b"
   },
   "outputs": [],
   "source": [
    "# Observation:\n",
    "#1.High DTI value  having high risk of defaults\n",
    "#2 Lower the DTI having low chances loan defaults."
   ]
  },
  {
   "cell_type": "code",
   "execution_count": 129,
   "id": "da364586",
   "metadata": {
    "id": "da364586",
    "outputId": "8f57323e-3a35-4b8b-9104-1fd00b78c63a"
   },
   "outputs": [
    {
     "data": {
      "text/plain": [
       "0.0    29671\n",
       "1.0     1369\n",
       "2.0        5\n",
       "Name: pub_rec_bankruptcies, dtype: int64"
      ]
     },
     "execution_count": 129,
     "metadata": {},
     "output_type": "execute_result"
    }
   ],
   "source": [
    "loan_df['pub_rec_bankruptcies'].value_counts()"
   ]
  },
  {
   "cell_type": "code",
   "execution_count": 130,
   "id": "eb4e02b4",
   "metadata": {
    "id": "eb4e02b4"
   },
   "outputs": [
    {
     "data": {
      "image/png": "[encoded data removed]",
      "text/plain": [
       "<Figure size 864x576 with 1 Axes>"
      ]
     },
     "metadata": {},
     "output_type": "display_data"
    }
   ],
   "source": [
    "# #Bivariate Analysis on Bankruptcies Record against Chargedoff_Proportion -\n",
    "pub_rec_bankruptcies_vs_loan = loan_df.groupby(['pub_rec_bankruptcies', 'loan_status']).loan_status.count().unstack().fillna(0).reset_index()\n",
    "pub_rec_bankruptcies_vs_loan['Total'] = pub_rec_bankruptcies_vs_loan['Charged Off']+ pub_rec_bankruptcies_vs_loan['Fully Paid']\n",
    "pub_rec_bankruptcies_vs_loan['Chargedoff_Proportion'] = pub_rec_bankruptcies_vs_loan['Charged Off'] / pub_rec_bankruptcies_vs_loan['Total']\n",
    "pub_rec_bankruptcies_vs_loan.sort_values('Chargedoff_Proportion', ascending=False)\n",
    "\n",
    "\n",
    "# graph\n",
    "fig, ax1 = plot.subplots(figsize=(12, 8),facecolor='b')\n",
    "ax1.set_title('Bankruptcies Record vs Chargedoff Proportion',fontsize=15,color='w')\n",
    "ax1=sea.barplot(x='pub_rec_bankruptcies', y='Chargedoff_Proportion', data=pub_rec_bankruptcies_vs_loan)\n",
    "ax1.set_xlabel('Bankruptcies Record To Income Ratio',fontsize=14,color='w')\n",
    "ax1.set_ylabel('Chargedoff Proportion',fontsize=14,color = 'w')\n",
    "plot.xticks(rotation=45)\n",
    "plot.show()"
   ]
  },
  {
   "cell_type": "code",
   "execution_count": 131,
   "id": "6d53f602",
   "metadata": {
    "id": "6d53f602"
   },
   "outputs": [],
   "source": [
    "# Observations:\n",
    "# 1.Bankruptcies Record with 2 is having high impact on loan defaults\n",
    "# 2.Bankruptcies Record with 0 is low impact on loan defaults\n",
    "# 3.Lower the Bankruptcies lower the risk."
   ]
  },
  {
   "cell_type": "code",
   "execution_count": 103,
   "id": "d80942c2",
   "metadata": {
    "id": "d80942c2"
   },
   "outputs": [
    {
     "data": {
      "image/png": "[encoded data removed]",
      "text/plain": [
       "<Figure size 1200x800 with 1 Axes>"
      ]
     },
     "metadata": {},
     "output_type": "display_data"
    }
   ],
   "source": [
    "# Bivariate Analysis on Issues of Year  against Chargedoff_Proportion -\n",
    "\n",
    "issue_year_vs_loan = loan_df.groupby(['issue_year', 'loan_status']).loan_status.count().unstack().fillna(0).reset_index()\n",
    "issue_year_vs_loan['Total'] = issue_year_vs_loan['Charged Off']+ issue_year_vs_loan['Fully Paid']\n",
    "issue_year_vs_loan['Chargedoff_Proportion'] = issue_year_vs_loan['Charged Off'] / issue_year_vs_loan['Total']\n",
    "issue_year_vs_loan.sort_values('Chargedoff_Proportion', ascending=False)\n",
    "\n",
    "\n",
    "# graph\n",
    "fig, ax1 = plot.subplots(figsize=(12, 8),facecolor='b')\n",
    "ax1.set_title('Issues Year  vs Chargedoff Proportion',fontsize=15,color='w')\n",
    "ax1=sea.barplot(x='issue_year', y='Chargedoff_Proportion', data=issue_year_vs_loan)\n",
    "ax1.set_xlabel('Year',fontsize=14,color='w')\n",
    "ax1.set_ylabel('Chargedoff Proportion',fontsize=14,color = 'w')\n",
    "plot.xticks(rotation=45)\n",
    "plot.show()"
   ]
  },
  {
   "cell_type": "code",
   "execution_count": 104,
   "id": "faaadfb1",
   "metadata": {
    "id": "faaadfb1"
   },
   "outputs": [],
   "source": [
    "    # Year 2007 is highest loan defaults this may have to do with recession in 2007.\n",
    "    # 2009 is having lowest loan defaults recession was at its end in this year.\n"
   ]
  },
  {
   "cell_type": "code",
   "execution_count": 132,
   "id": "8c6150ee",
   "metadata": {
    "id": "8c6150ee"
   },
   "outputs": [
    {
     "data": {
      "image/png": "[encoded data removed]",
      "text/plain": [
       "<Figure size 864x576 with 1 Axes>"
      ]
     },
     "metadata": {},
     "output_type": "display_data"
    }
   ],
   "source": [
    "# Bivariate Analysis on Month of Issue of loan Record against Chargedoff_Proportion -\n",
    "\n",
    "issue_month_vs_loan = loan_df.groupby(['issue_month', 'loan_status']).loan_status.count().unstack().fillna(0).reset_index()\n",
    "issue_month_vs_loan['Total'] = issue_month_vs_loan['Charged Off']+ issue_month_vs_loan['Fully Paid']\n",
    "issue_month_vs_loan['Chargedoff_Proportion'] = issue_month_vs_loan['Charged Off'] / issue_month_vs_loan['Total']\n",
    "issue_month_vs_loan.sort_values('Chargedoff_Proportion', ascending=False)\n",
    "\n",
    "\n",
    "# graph\n",
    "fig, ax1 = plot.subplots(figsize=(12, 8),facecolor='b')\n",
    "ax1.set_title('Issue Month  vs Chargedoff Proportion',fontsize=15,color='w')\n",
    "ax1=sea.barplot(x='issue_month', y='Chargedoff_Proportion', data=issue_month_vs_loan)\n",
    "ax1.set_xlabel('Issue Month ',fontsize=14,color='w')\n",
    "ax1.set_ylabel('Chargedoff Proportion',fontsize=14,color = 'w')\n",
    "plot.xticks(rotation=45)\n",
    "plot.show()"
   ]
  },
  {
   "cell_type": "code",
   "execution_count": 133,
   "id": "6e906a6a",
   "metadata": {
    "id": "6e906a6a"
   },
   "outputs": [],
   "source": [
    "# 1. Those loan has been issued in May, September and december is having high number of loan defaults\n",
    "# 2. Those loan has been issued in month of February is having high number of loan defaults\n",
    "# 3. Majority of loan defaults coming from applicants whose loan has been aprroved from September-to Deceber \n",
    "# 4. This may have to do with the high workloads of issuing authorities or trying to meet targets in these months"
   ]
  },
  {
   "cell_type": "code",
   "execution_count": 134,
   "id": "a6b8db36",
   "metadata": {
    "id": "a6b8db36"
   },
   "outputs": [
    {
     "data": {
      "image/png": "[encoded data removed]",
      "text/plain": [
       "<Figure size 864x576 with 1 Axes>"
      ]
     },
     "metadata": {},
     "output_type": "display_data"
    }
   ],
   "source": [
    "# Bivariate Analysis on Address state  against Chargedoff_Proportion -\n",
    "\n",
    "addr_state_vs_loan = loan_df.groupby(['addr_state', 'loan_status']).loan_status.count().unstack().fillna(0).reset_index()\n",
    "addr_state_vs_loan['Total'] = addr_state_vs_loan['Charged Off']+ addr_state_vs_loan['Fully Paid']\n",
    "addr_state_vs_loan['Chargedoff_Proportion'] = addr_state_vs_loan['Charged Off'] / addr_state_vs_loan['Total']\n",
    "addr_state_vs_loan.sort_values('Chargedoff_Proportion', ascending=False)\n",
    "\n",
    "# graph\n",
    "fig, ax1 = plot.subplots(figsize=(12, 8),facecolor='b')\n",
    "ax1.set_title('State  vs Chargedoff Proportion',fontsize=15,color='w')\n",
    "ax1=sea.barplot(x='addr_state', y='Chargedoff_Proportion', data=addr_state_vs_loan)\n",
    "ax1.set_xlabel('State ',fontsize=14,color='w')\n",
    "ax1.set_ylabel('Chargedoff Proportion',fontsize=14,color = 'w')\n",
    "plot.xticks(rotation=45)\n",
    "plot.show()"
   ]
  },
  {
   "cell_type": "code",
   "execution_count": 135,
   "id": "23c704ba",
   "metadata": {
    "id": "23c704ba"
   },
   "outputs": [],
   "source": [
    "# Observations:\n",
    "# 1.DE States is holding highest number of loan defaults.\n",
    "# 2.CA is having low number of loan defaults, may have to do with better laws and good income"
   ]
  },
  {
   "cell_type": "code",
   "execution_count": 136,
   "id": "3ba1011c",
   "metadata": {
    "id": "3ba1011c"
   },
   "outputs": [
    {
     "data": {
      "image/png": "[encoded data removed]",
      "text/plain": [
       "<Figure size 864x576 with 1 Axes>"
      ]
     },
     "metadata": {},
     "output_type": "display_data"
    }
   ],
   "source": [
    "# Bivariate Analysis on Grade against Chargedoff_Proportion -\n",
    "\n",
    "grade_vs_loan = loan_df.groupby(['grade', 'loan_status']).loan_status.count().unstack().fillna(0).reset_index()\n",
    "grade_vs_loan['Total'] = grade_vs_loan['Charged Off']+ grade_vs_loan['Fully Paid']\n",
    "grade_vs_loan['Chargedoff_Proportion'] = grade_vs_loan['Charged Off'] / grade_vs_loan['Total']\n",
    "grade_vs_loan.sort_values('Chargedoff_Proportion', ascending=False)\n",
    "\n",
    "\n",
    "# graph\n",
    "fig, ax1 = plot.subplots(figsize=(12, 8),facecolor='b')\n",
    "ax1.set_title('Grade  vs Chargedoff Proportion',fontsize=15,color='w')\n",
    "ax1=sea.barplot(x='grade', y='Chargedoff_Proportion', data=grade_vs_loan)\n",
    "ax1.set_xlabel('Grade ',fontsize=14,color='w')\n",
    "ax1.set_ylabel('Chargedoff Proportion',fontsize=14,color = 'w')\n",
    "plot.xticks(rotation=45)\n",
    "plot.show()"
   ]
  },
  {
   "cell_type": "code",
   "execution_count": 137,
   "id": "fc66ecdb",
   "metadata": {
    "id": "fc66ecdb"
   },
   "outputs": [],
   "source": [
    "    # observations :\n",
    "    #1. The Loan applicants with loan Grade G is having higest Loan Defaults.\n",
    "    #2. The Loan applicants with loan A is having lowest Loan Defaults."
   ]
  },
  {
   "cell_type": "markdown",
   "id": "lSyLP3LiCpgL",
   "metadata": {
    "id": "lSyLP3LiCpgL"
   },
   "source": [
    "## 7.  Correlation Analysis"
   ]
  },
  {
   "cell_type": "code",
   "execution_count": 140,
   "id": "qkJ_iPf2_PJm",
   "metadata": {
    "colab": {
     "base_uri": "https://localhost:8080/",
     "height": 808
    },
    "id": "qkJ_iPf2_PJm",
    "outputId": "05d7396f-934c-4069-b063-4c72d054e8c9"
   },
   "outputs": [
    {
     "data": {
      "image/png": "[encoded data removed]",
      "text/plain": [
       "<Figure size 864x576 with 4 Axes>"
      ]
     },
     "metadata": {},
     "output_type": "display_data"
    }
   ],
   "source": [
    "corr_loan = loan_df\n",
    "corr = corr_loan.corr()\n",
    "sea.set(font_scale=1.1)\n",
    "sea.clustermap(corr, annot=True, figsize=(12, 8), cmap=\"Blues\")\n",
    "plot.show()\n"
   ]
  },
  {
   "cell_type": "code",
   "execution_count": 142,
   "id": "SIJCtza8_lUP",
   "metadata": {
    "id": "SIJCtza8_lUP"
   },
   "outputs": [],
   "source": [
    "drop_columns = ['installment', 'issue_year', 'issue_month']\n",
    "corr_loan = corr_loan.drop(columns=drop_columns)"
   ]
  },
  {
   "cell_type": "code",
   "execution_count": 113,
   "id": "8pDf6noC_9U3",
   "metadata": {
    "id": "8pDf6noC_9U3"
   },
   "outputs": [
    {
     "data": {
      "image/png": "[encoded data removed]",
      "text/plain": [
       "<Figure size 1200x800 with 4 Axes>"
      ]
     },
     "metadata": {},
     "output_type": "display_data"
    }
   ],
   "source": [
    "corr = corr_loan.corr()\n",
    "sea.set(font_scale=1.1)\n",
    "sea.clustermap(corr, annot=True, figsize=(12, 8), cmap=\"Blues\")\n",
    "plot.show()"
   ]
  },
  {
   "cell_type": "markdown",
   "id": "lr36Faa6A0MN",
   "metadata": {
    "id": "lr36Faa6A0MN"
   },
   "source": [
    "Negative Correlation:\n",
    "\n",
    "1.loan_amnt has negative correlation with pub_rec_bankrupticies\n",
    "\n",
    "2.annual income has a negative correlation with dti\n",
    "\n",
    "Strong Correlation:\n",
    "\n",
    "1.term has a strong correlation with loan amount\n",
    "\n",
    "2.term has a strong correlation with interest rate\n",
    "\n",
    "3.annual income has a strong correlation with loan_amount"
   ]
  }
 ],
 "metadata": {
  "colab": {
   "provenance": []
  },
  "kernelspec": {
   "display_name": "Python 3 (ipykernel)",
   "language": "python",
   "name": "python3"
  },
  "language_info": {
   "codemirror_mode": {
    "name": "ipython",
    "version": 3
   },
   "file_extension": ".py",
   "mimetype": "text/x-python",
   "name": "python",
   "nbconvert_exporter": "python",
   "pygments_lexer": "ipython3",
   "version": "3.9.7"
  }
 },
 "nbformat": 4,
 "nbformat_minor": 5
}
